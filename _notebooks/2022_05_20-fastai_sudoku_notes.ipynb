{
  "cells": [
    {
      "cell_type": "markdown",
      "id": "9f8e2a6f-2396-457e-904f-b9ffa99392eb",
      "metadata": {
        "id": "9f8e2a6f-2396-457e-904f-b9ffa99392eb"
      },
      "source": [
        "# fastai Sudoku - One Solution with Notes\n",
        "\n",
        "> \"One of my solutions and some notes when using Sudoku to help learn fastai data preparation\"\n",
        "\n",
        "- toc: true\n",
        "- branch: master\n",
        "- badges: true\n",
        "- comments: true\n",
        "- author: Craig Stanton\n",
        "- hide: false\n",
        "- categories: [fastai]"
      ]
    },
    {
      "cell_type": "markdown",
      "id": "e71f6714-e42c-4fea-a49d-9b26e74edf51",
      "metadata": {
        "id": "e71f6714-e42c-4fea-a49d-9b26e74edf51"
      },
      "source": [
        "Use a Sudoku puzzle to learn more about the fastai `DataBlock`, `Datasets`, `DataLoaders` and `TfmdDL` objects.\n",
        "\n",
        "Why even bother with this? Jeremy's advice is to build models as quick as you can. However I often find myself tripping at the first hurdle many times - **the data preparation stage**. It doesn't matter how many times I read about `DataBlock`, `TfmdDL`, and `DataLoaders`, there is no substitute for actually using the libraries. So why not outline a game that requires you to build and solve the puzzle by using the same tools that you need to structure the data for a fastai `Learner` (which is where the actual training magic happens).\n",
        "\n",
        "Additionally, I really struggle at times to read the fastai code - it contains so many Python tricks that I am not always familiar with. Therefore this type of exercise forces me to interrogate the code in order to write working DataBlock functions.\n",
        "\n",
        "> This is a solution notebook for the fastai Sudoku notebook\n",
        "\n",
        "## Why Sudoku?\n",
        "\n",
        "Besides the fact that most people know the game, I needed something that was 2-dimensional because that is how our raw ML data is usually represented (even if we are working with images, its helpful to *think* of the input data in a tabular structure, where each training item is represented as a row, and one column is the independent variable and while another is the dependent variable)."
      ]
    },
    {
      "cell_type": "markdown",
      "id": "6tHpUTm0qjCz",
      "metadata": {
        "id": "6tHpUTm0qjCz"
      },
      "source": [
        "### Setup"
      ]
    },
    {
      "cell_type": "code",
      "execution_count": null,
      "id": "d6ce8821-3c2d-4655-94e2-e112032b7ec1",
      "metadata": {
        "colab": {
          "base_uri": "https://localhost:8080/"
        },
        "id": "d6ce8821-3c2d-4655-94e2-e112032b7ec1",
        "outputId": "221f84a5-f94f-41e9-df28-865c68598910"
      },
      "outputs": [],
      "source": [
        "#@title\n",
        "!pip install py-sudoku==1.0.3\n",
        "from fastai.text.all import *\n",
        "from fastai.vision.all import *\n",
        "from sudoku import Sudoku\n",
        "from functools import wraps\n",
        "from typing import Union, Iterable\n",
        "from collections.abc import Collection\n",
        "import ipywidgets as widgets\n",
        "import requests, pprint\n",
        "from IPython.display import HTML\n",
        "\n",
        "class FastSudoku:\n",
        "    \"\"\"\n",
        "    Learn how to use the fastai DataBlock, Datasets, TfmdDL, and DataLoaders transforms and callbacks by creating and solving a sudoku puzzle\n",
        "    \"\"\"\n",
        "    \n",
        "    def __init__(self, difficulty: float = 0.25, seed: int = 527, data_dir: Path = Path(\".\")):\n",
        "        self.puzzle = Sudoku(3, seed=seed).difficulty(difficulty)\n",
        "        self.solved = self.puzzle.solve().board\n",
        "        pd.DataFrame(self.puzzle.board).to_csv(data_dir/\"raw_data.csv\", index=False)\n",
        "        \n",
        "    def __repr__(self):\n",
        "        return f\"Puzzle created\"\n",
        "    \n",
        "    @staticmethod\n",
        "    def np2list(x): return None if np.isnan(x) else int(x)\n",
        "    \n",
        "    def check(self, dls):\n",
        "        \"\"\"\n",
        "        Unpack the dataloaders output, convert to int and str\n",
        "        \"\"\"\n",
        "        holder = []\n",
        "        for dl in dls:\n",
        "            holder+=dl\n",
        "        self.preds = [list(map(self.np2list,j)) for j in [i[0] for i in holder]]\n",
        "        if all(j for j in [self.solved[i] == x for i, x in enumerate(self.preds)]):\n",
        "            \n",
        "            print(\"\\n\\nYes you are a fastai...and sudoku...whiz!\\n\\n\")\n",
        "        else:\n",
        "            print(\"\\n\\nNot quite. Check out your puzzle below and try again!\\n\\n\")\n",
        "            # print the current board with any guesses\n",
        "            Sudoku(3, 3, board=self.preds).show()\n",
        "\n",
        "fast_sudoku_answers = requests.get(\"https://gist.githubusercontent.com/stantonius/ca95d88dcd0085b12a302f64b326caf8/raw/68b676048138fc8096157176b411b677a98a34ec/fast_sudoku_answers.json\")"
      ]
    },
    {
      "cell_type": "markdown",
      "id": "YkKA641lqxQl",
      "metadata": {
        "id": "YkKA641lqxQl"
      },
      "source": [
        "### Getting Started"
      ]
    },
    {
      "cell_type": "markdown",
      "id": "d4iOyoAks5j1",
      "metadata": {
        "id": "d4iOyoAks5j1"
      },
      "source": [
        "The first thing to do is to set the puzzle **difficulty** (a float between 0 and 1) and the **seed** (any integer). Note that the seed ensures the reproducability of the same Sudoku board - therefore, in order to practice a second time you will want to change this value)"
      ]
    },
    {
      "cell_type": "code",
      "execution_count": null,
      "id": "8377847d-741f-4f72-bf67-cc132574459e",
      "metadata": {
        "id": "8377847d-741f-4f72-bf67-cc132574459e"
      },
      "outputs": [],
      "source": [
        "fs = FastSudoku(difficulty = 0.2, seed = 92)"
      ]
    },
    {
      "cell_type": "code",
      "execution_count": null,
      "id": "13be3fe6-8486-4529-8223-a2ec4048a1c6",
      "metadata": {
        "colab": {
          "base_uri": "https://localhost:8080/"
        },
        "id": "13be3fe6-8486-4529-8223-a2ec4048a1c6",
        "outputId": "3c7a153a-e224-42b2-aa16-cb25be82beb1"
      },
      "outputs": [],
      "source": [
        "fs.puzzle.show()"
      ]
    },
    {
      "cell_type": "markdown",
      "id": "6b24dde5-d258-422c-99f3-9da468880dcf",
      "metadata": {
        "id": "6b24dde5-d258-422c-99f3-9da468880dcf"
      },
      "source": [
        "### Challenge 1 - Create a `Datasets` object using the `DataBlock` API"
      ]
    },
    {
      "cell_type": "markdown",
      "id": "c8286e5d-1487-41ca-a3c9-08152b597f85",
      "metadata": {
        "id": "c8286e5d-1487-41ca-a3c9-08152b597f85"
      },
      "source": [
        "In the current directory we have a generated file `raw_data.csv` which contains the unsolved Sudoku puzzle data. \n",
        "\n",
        "**Objective**: Using the `DataBlock` API, pass as many function arguments (ie. `get_items`, `batch_tfms`, `get_y`, etc.) as possible so that you create a `Datasets` object that contains the original Sudoku values *along with an additional `y-value` column*.  \n",
        "\n",
        "**Instructions**:\n",
        "\n",
        "* Grab the `raw_data.csv` puzzle and create a `DataBlock`\n",
        "* You should try and use *as many* of the functions below as DataBlock arguments - not necessarily all, but as many as you can/wish. The point of this is not to be the most efficient or practical way of creating a `DataBlock` but rather to *understand what each argument function argument does*.\n",
        "\n",
        "*Tips*:\n",
        "1. Don't be afraid to comment out lines to see how the absence of functions changes the output\n",
        "2. Use print statements to track the output of each function\n",
        "3. Read the fastai code for the functions and classes you are unfamiliar with."
      ]
    },
    {
      "cell_type": "markdown",
      "id": "gui14zM30_M0",
      "metadata": {
        "id": "gui14zM30_M0"
      },
      "source": [
        "**Question**: the objective states to create a new `y-value` column. What should this column contain? Why? \n",
        "\n",
        "*Click on the `Show answer` buttons below to reveal the answers*"
      ]
    },
    {
      "cell_type": "code",
      "execution_count": null,
      "id": "JbiTaGDk9WMs",
      "metadata": {
        "colab": {
          "base_uri": "https://localhost:8080/",
          "height": 49,
          "referenced_widgets": [
            "1cdf17184caf43d6aa56ff9198d50bbe",
            "c1f9d0f4138b42eba4cd747676a168c0",
            "f8698d37783f4685aa910ec3fd0cec54",
            "2fb08448c9164d6ea1c98837dcc8bbdc",
            "d45d9ee1803a4908b8207b35fab1cadb"
          ]
        },
        "id": "JbiTaGDk9WMs",
        "outputId": "268aa879-20b6-43f9-d80a-5f4ee56a1f6a"
      },
      "outputs": [],
      "source": [
        "#@title\n",
        "button = widgets.Button(description=\"Show answer\")\n",
        "output = widgets.Output()\n",
        "\n",
        "def show_answer(b):\n",
        "    with output:\n",
        "        print(fast_sudoku_answers.json()[\"y_col\"])\n",
        "\n",
        "button.on_click(callback=show_answer)\n",
        "display(button, output)"
      ]
    },
    {
      "cell_type": "code",
      "execution_count": null,
      "id": "DSUcq6l2994P",
      "metadata": {
        "colab": {
          "base_uri": "https://localhost:8080/",
          "height": 49,
          "referenced_widgets": [
            "7b7cdb8f4b9e40f5b0635799865ab3e0",
            "922fba837a164733b8e915cb3412a75c",
            "bcd9be51d00b4f0eaddd5746ffabe4fe",
            "bd4d2fd8b73b4c6994e201e9393236fc",
            "61e47cc24d2d404d9e3ea4f1a3b6ed28"
          ]
        },
        "id": "DSUcq6l2994P",
        "outputId": "14312831-1bd5-478e-ee53-f0efff5a135b"
      },
      "outputs": [],
      "source": [
        "#@title\n",
        "button = widgets.Button(description=\"Show answer\")\n",
        "output = widgets.Output()\n",
        "\n",
        "def show_answer(b):\n",
        "    with output:\n",
        "        print(fast_sudoku_answers.json()[\"why_y\"])\n",
        "\n",
        "button.on_click(callback=show_answer)\n",
        "display(button, output)"
      ]
    },
    {
      "cell_type": "markdown",
      "id": "-iRB4EL_D9Al",
      "metadata": {
        "id": "-iRB4EL_D9Al"
      },
      "source": [
        "#### Define our `DataBlock` functional arguments"
      ]
    },
    {
      "cell_type": "code",
      "execution_count": null,
      "id": "bf8a154e-d0f7-4740-a166-cc09398b0af5",
      "metadata": {
        "id": "bf8a154e-d0f7-4740-a166-cc09398b0af5"
      },
      "outputs": [],
      "source": [
        "def get_items(raw_data_path: Union[str, Path]) -> pd.DataFrame:\n",
        "    \"\"\"\n",
        "    `get_items()` main purpose is to **fetch the raw data** so that additional \n",
        "    getters and transformations can be applied to the data.\n",
        "\n",
        "    Notice how here we actually modify the data by appending our `y` index column.  \n",
        "    \"\"\"\n",
        "    df = pd.read_csv(raw_data_path)\n",
        "    df[\"y\"] = df.index.to_list()\n",
        "    return df\n",
        "\n",
        "def mock_item_tfm(o: Any) -> Any:\n",
        "    \"\"\"\n",
        "    Prints a statement just to show when this item_tfms is called. Confirmed that\n",
        "    this is not called because we are creating our DataLoaders unconventionally\n",
        "    \"\"\"\n",
        "    print(\"item_tfms supplied to the DataBlock API has been called\")\n",
        "    return o\n",
        "\n",
        "def get_x(a): # -> Iterator (colab is Python 3.7 which doesn't like this)\n",
        "    \"\"\"\n",
        "    The fact this outputs an Iterable, where each item in the iterable is a \n",
        "    single `x`-value, is important to realise. \n",
        "    \n",
        "    Why is it important that this function outputs an iterable? Well, what can \n",
        "    you do with 2 equal length iterables? \n",
        "    `zip` them together - which is what happens is the `DataLoaders`\n",
        "    \"\"\"\n",
        "    return a.to_list()[:-1]\n",
        "\n",
        "def get_y(a): # -> Iterator (colab is Python 3.7 which doesn't like this)\n",
        "    \"\"\"\n",
        "    Again just like in `get_x`, the fact this outputs an iterable is \n",
        "    the main takeaway here.\n",
        "    \"\"\"\n",
        "    print(f\"get_y value is {a['y']} \\n\")\n",
        "    return a[\"y\"]\n",
        "    \n",
        "\n",
        "#################\n",
        "# Predefined\n",
        "#################\n",
        "\n",
        "def splitter(a):\n",
        "    # In this exercise, we don't need train and validation sets\n",
        "    # Therefore this is effectively a dummy function in this specific circumstance\n",
        "    # But never forget about Splitter because it is such an important concept!\n",
        "    return [list(range(9)),]"
      ]
    },
    {
      "cell_type": "code",
      "execution_count": null,
      "id": "af7895e6-e97e-4216-aecd-239d0468bcdc",
      "metadata": {
        "id": "af7895e6-e97e-4216-aecd-239d0468bcdc"
      },
      "outputs": [],
      "source": [
        "dblock = DataBlock(\n",
        "    # blocks=[TransformBlock, CategoryBlock],\n",
        "    get_items=get_items,\n",
        "    get_x=get_x,\n",
        "    get_y=get_y,\n",
        "    splitter=splitter\n",
        ")"
      ]
    },
    {
      "cell_type": "markdown",
      "id": "OPhEafvUWy59",
      "metadata": {
        "id": "OPhEafvUWy59"
      },
      "source": [
        "**Question**: why did we not need to provide any `blocks` arguments?"
      ]
    },
    {
      "cell_type": "code",
      "execution_count": null,
      "id": "mpE9sMFwXDBN",
      "metadata": {
        "colab": {
          "base_uri": "https://localhost:8080/",
          "height": 49,
          "referenced_widgets": [
            "65d8add5dd484fe9835d4b69231674e3",
            "7f1405eae45e48629638a161fdfa8882",
            "3f599e526295405b9621819005b4075d",
            "cd8d958251b3448d8bbf1de6bf46be07",
            "4ba403f580b649c5b082aef7c9fab0af"
          ]
        },
        "id": "mpE9sMFwXDBN",
        "outputId": "f860401c-5157-4116-8660-e397ed2b3290"
      },
      "outputs": [],
      "source": [
        "#@title\n",
        "button = widgets.Button(description=\"Show answer\")\n",
        "output = widgets.Output()\n",
        "\n",
        "def show_answer(b):\n",
        "    with output:\n",
        "        print(fast_sudoku_answers.json()[\"no_blocks\"])\n",
        "\n",
        "button.on_click(callback=show_answer)\n",
        "display(button, output)"
      ]
    },
    {
      "cell_type": "markdown",
      "id": "DuTzsfr7XaX5",
      "metadata": {
        "id": "DuTzsfr7XaX5"
      },
      "source": [
        "**Question**: why did we not supply any `batch_tfms` or `item_tfms`?"
      ]
    },
    {
      "cell_type": "code",
      "execution_count": null,
      "id": "xSSJ2PdpXmWD",
      "metadata": {
        "colab": {
          "base_uri": "https://localhost:8080/",
          "height": 49,
          "referenced_widgets": [
            "73d32b154a1745a29fcca50a19c70bb6",
            "fdbed2b1e16443169a20896311a1543a",
            "ab440cfb3bfa4720820c8fa8a3bf333a",
            "689f4e7c6aa74d6c8786d42bf6902e5b",
            "a0a4cdf6597e40d38ef2e7b5bb94c3ef"
          ]
        },
        "id": "xSSJ2PdpXmWD",
        "outputId": "e536b998-2390-429c-80fd-0b7f1eb94b31"
      },
      "outputs": [],
      "source": [
        "#@title\n",
        "button = widgets.Button(description=\"Show answer\")\n",
        "output = widgets.Output()\n",
        "\n",
        "def show_answer(b):\n",
        "    with output:\n",
        "        print(fast_sudoku_answers.json()[\"no_tfms\"])\n",
        "\n",
        "button.on_click(callback=show_answer)\n",
        "display(button, output)"
      ]
    },
    {
      "cell_type": "markdown",
      "id": "137d61a5-363f-4330-9938-f7d04fa59331",
      "metadata": {
        "id": "137d61a5-363f-4330-9938-f7d04fa59331"
      },
      "source": [
        "#### Check our Dataset"
      ]
    },
    {
      "cell_type": "code",
      "execution_count": null,
      "id": "a19e467b-208a-4071-a44f-9ce9c0493156",
      "metadata": {
        "colab": {
          "base_uri": "https://localhost:8080/"
        },
        "id": "a19e467b-208a-4071-a44f-9ce9c0493156",
        "outputId": "142a404b-6757-4542-b12f-df7dd72ea9c9"
      },
      "outputs": [],
      "source": [
        "dsets = dblock.datasets(\"raw_data.csv\");"
      ]
    },
    {
      "cell_type": "code",
      "execution_count": null,
      "id": "16a842a6-7418-4a94-a6d2-9a2b43aefd1a",
      "metadata": {
        "colab": {
          "base_uri": "https://localhost:8080/",
          "height": 575
        },
        "id": "16a842a6-7418-4a94-a6d2-9a2b43aefd1a",
        "outputId": "99123eb9-d43e-4c7a-9518-58d816fa5682"
      },
      "outputs": [],
      "source": [
        "fs.puzzle.show()\n",
        "\n",
        "dsets.items"
      ]
    },
    {
      "cell_type": "markdown",
      "id": "ac42e2d0-1ed2-42f1-95b1-5b7b82b93cee",
      "metadata": {
        "id": "ac42e2d0-1ed2-42f1-95b1-5b7b82b93cee"
      },
      "source": [
        "### Challenge 2 - Use `TfmdDL` to solve the Sudoku puzzle"
      ]
    },
    {
      "cell_type": "markdown",
      "id": "WJkEIeeBLpr9",
      "metadata": {
        "id": "WJkEIeeBLpr9"
      },
      "source": [
        "> Why are we using `TfmdDL` here? If you look into the fastai code, any time you create a `DataLoaders`, the `TfdmDL` class is ultimately called."
      ]
    },
    {
      "cell_type": "markdown",
      "id": "80b56791-b228-4ecb-bb37-b694a1f23cdf",
      "metadata": {
        "id": "80b56791-b228-4ecb-bb37-b694a1f23cdf"
      },
      "source": [
        "**Objective:** Use the `TfmdDL` callbacks to modify the `Datasets` you just created to solve the Sudoku board\n",
        "\n",
        "**Instructions**:\n",
        "* Test your DataLoaders object against the puzzle, you can use the `fs.check(dls)` method\n",
        "* You should try and use *as many* of the callback functions below - not necessarily all, but as many as you can/wish. The point of this is not to be the most efficient or practical way of creating a `DataLoaders` but rather to understand what each function argument does.\n",
        "\n",
        "*Tips*:\n",
        "1. Use **helper function(s)** that are called within other functions to insert your Sudoku responses into the row\n",
        "2. Don't be afraid to comment out lines to see how the absence of functions changes the output\n",
        "3. Use print statements to track the output of each function\n",
        "4. Read the fastai code for the functions and classes you are unfamiliar with."
      ]
    },
    {
      "cell_type": "code",
      "execution_count": null,
      "id": "e7c29903-3b5e-4355-af3c-b908b7966b4d",
      "metadata": {
        "colab": {
          "base_uri": "https://localhost:8080/"
        },
        "id": "e7c29903-3b5e-4355-af3c-b908b7966b4d",
        "outputId": "ee7682b6-6905-4cfc-9070-b751bec48cc0"
      },
      "outputs": [],
      "source": [
        "# show the Sudoku puzzle again\n",
        "fs.puzzle.show()"
      ]
    },
    {
      "cell_type": "markdown",
      "id": "qX1Yu0pxi8yx",
      "metadata": {
        "id": "qX1Yu0pxi8yx"
      },
      "source": []
    },
    {
      "cell_type": "code",
      "execution_count": null,
      "id": "27f4abfd-df04-41b7-95d6-1673d49956d0",
      "metadata": {
        "id": "27f4abfd-df04-41b7-95d6-1673d49956d0"
      },
      "outputs": [],
      "source": [
        "#################\n",
        "# HELPER FUNCTION\n",
        "#################\n",
        "\n",
        "def s(puzzle,row,col,value):\n",
        "    \"\"\"\n",
        "    Helper function that takes non-zero indexed row and column and inserts value into puzzle.\n",
        "    \"\"\"\n",
        "    for i in puzzle:\n",
        "        if i[1] == row-1:\n",
        "            i[0][col-1] = value\n",
        "    return puzzle\n",
        "    \n",
        "###########################\n",
        "# TfmdDL FUNCTION ARGUMENTS\n",
        "###########################\n",
        "\n",
        "def before_iter():\n",
        "    \"\"\"\n",
        "    TODO: Still not quite sure what this function does or when I would use it\n",
        "    \"\"\"\n",
        "    # pass\n",
        "    return print(\"Hello\")\n",
        "\n",
        "def after_item(a):\n",
        "    \"\"\"\n",
        "    Receives **each** item **before a batch is created**.\n",
        "    This includes the `x` and `y` values **individually** after the `get_x` and `get_y`\n",
        "    are applied.\n",
        "\n",
        "    Crucially, this is where **`batch_tfms`** can be applied\n",
        "\n",
        "    For example, if the first row in our Sudoku dataset is `[5.0, nan, 8.0, 6.0, 7.0, 1.0, 3.0, 9.0, 4.0, 0]`,\n",
        "    where the last item is our `y-value`, then this function will receive\n",
        "    `[5.0, nan, 8.0, 6.0, 7.0, 1.0, 3.0, 9.0, 4.0]` and also (separately) receives `0`\n",
        "    \"\"\"\n",
        "    print(f\"after_item called on {a} \\n\")\n",
        "    return a\n",
        "\n",
        "def before_batch(a):\n",
        "    \"\"\"\n",
        "    Receives a list of **tuples** of length batch-size. But beware - this is not the actual batch\n",
        "    because there is no shuffling done here.\n",
        "\n",
        "    Another key to realise here is that we are already dealing with tuples here,\n",
        "    where the first tuple item is `x` (as defined by `get_x` or `getters`) and \n",
        "    the second item is `y`.\n",
        "\n",
        "    For example, if our batch size is 3, this function receives the 3 dataset rows. \n",
        "    [([5.0, nan, 8.0, 6.0, 7.0, 1.0, 3.0, 9.0, 4.0], 0), ([6.0, 9.0, 3.0, nan, nan, 8.0, 1.0, nan, 7.0], 1), ([4.0, 1.0, 7.0, 1, 3.0, nan, 2.0, 8.0, 6.0], 2)]\n",
        "\n",
        "    **`batch_tfms`** can be applied at this stage\n",
        "    \"\"\"\n",
        "    print(f\"before_batch called on {a} \\n\")\n",
        "    a = s(a,1,2,2.0)\n",
        "    a = s(a,4,2,7.0)\n",
        "    a = s(a,7,1,7.0)\n",
        "    a = s(a,4,5,1.0)\n",
        "    a = s(a,5,4,7.0)\n",
        "    a = s(a,6,4,9.0)\n",
        "    a = s(a,6,7,5.0)\n",
        "    return a\n",
        "\n",
        "def after_iter(cls_name):\n",
        "    \"\"\"\n",
        "    Does not usually take any arguments. A function that normally would have\n",
        "    access to `self`.\n",
        "\n",
        "    Unsure of what the use case for this might be \n",
        "    \"\"\"\n",
        "    # absolute hack using globals\n",
        "    puzzle = [row[0] for row in globals()[cls_name]]\n",
        "    puzzle_sorted = sorted(puzzle, key=lambda tup: tup[1])\n",
        "    xs = [float(x[0]) for x in puzzle_sorted]\n",
        "    print(f\"After_iter {xs}\")\n",
        "    # pass\n",
        "    return puzzle\n",
        "\n",
        "def create_batches(a):\n",
        "    \"\"\"\n",
        "    Receives a **generator** that contains the **indices** of items to be included in each batch\n",
        "    \"\"\"\n",
        "    print(f\"create_batches called on {next(iter(a))} \\n\")\n",
        "    return a\n",
        "\n",
        "def create_item(a):\n",
        "    \"\"\"\n",
        "    Passed the **indices** of the items that will form the batch.\n",
        "    It is therefore called **before** a batch is created (ie. before `before_batch`)\n",
        "    Therefore if `shuffle=True`, it will recieve random indices\n",
        "    \"\"\"\n",
        "    print(f\"create_item called on {a} \\n\")\n",
        "    return a\n",
        "\n",
        "def custom_collate(a):\n",
        "    \"\"\"\n",
        "    Generally, a collate function **reshapes** the data from a list of tuples \n",
        "    (where the first item in the tuple is the `x` value, the second is the `y`)\n",
        "    to an *iterable* (ie. list, tensor, or some other collection) **of tensors**\n",
        "    (where the first tensor is **all of the `x` values in the batch**, and the\n",
        "    second is all of the `y` values)\n",
        "\n",
        "    For example, pulled directly from the torch source code:\n",
        "    >>> default_collate([(0, 1), (2, 3)])\n",
        "    [tensor([0, 2]), tensor([1, 3])]\n",
        "\n",
        "    Notice how the batch above is \"reshuffled\"\n",
        "\n",
        "    Why might you create a custom collate function? The easiest example is in NLP\n",
        "    when you want to pad sequences to be the length of the longest item in the batch\n",
        "    \"\"\"\n",
        "    # Note this is a very poor implementation; just for learning purposes\n",
        "    # It does not convert the items to a tensor\n",
        "    return list(zip(*a))\n",
        "\n",
        "def create_batch(a):\n",
        "    \"\"\"\n",
        "    Generally calls a collate function. By supplying this argument, we should \n",
        "    have come collate function run here\n",
        "    \"\"\"\n",
        "    # print(f\"create_batch called on {custom_collate(a)} \\n\")\n",
        "    # return custom_collate(a)\n",
        "    return a\n",
        "\n",
        "def after_batch(a):\n",
        "    \"\"\"\n",
        "    The actual batch output. Any final **batch transformations** can be applied following\n",
        "    the `collate_fn` is applied in `create_batch` (ie. if your transforms needed\n",
        "    to take into consideration any changes to the batch during collate, then you would\n",
        "    apply these here)\n",
        "    \"\"\"\n",
        "    a = s(a,8,7,6.0)\n",
        "    a = s(a,8,1,9.0)\n",
        "    a = s(a,2,4,2.0)\n",
        "    a = s(a,2,5,4.0)\n",
        "    a = s(a,3,6,9.0)\n",
        "    a = s(a,2,8,5.0)\n",
        "    a = s(a,4,9,2.0)\n",
        "    a = s(a,4,8,6.0)\n",
        "    a = s(a,8,9,8.0)\n",
        "    a = s(a,8,8,1.0)\n",
        "    return a"
      ]
    },
    {
      "cell_type": "code",
      "execution_count": null,
      "id": "e4670a14-c0ef-43b4-878a-ad749c337ef4",
      "metadata": {
        "id": "e4670a14-c0ef-43b4-878a-ad749c337ef4"
      },
      "outputs": [],
      "source": [
        "dls = TfmdDL(\n",
        "    dsets,\n",
        "    bs=2,   # change this value to see its effects\n",
        "    # before_iter=before_iter,\n",
        "    after_item=after_item,\n",
        "    before_batch=before_batch,\n",
        "    # after_iter=partial(after_iter, \"dls\"),\n",
        "    # create_item=create_item,\n",
        "    create_batch=create_batch,\n",
        "    after_batch=after_batch,\n",
        "    # create_batches=create_batches,\n",
        "    shuffle=False # change to see the impact\n",
        ")\n"
      ]
    },
    {
      "cell_type": "markdown",
      "id": "DaSDvF6pg65g",
      "metadata": {
        "id": "DaSDvF6pg65g"
      },
      "source": [
        "Use the `fs.check()` function to check your answers."
      ]
    },
    {
      "cell_type": "code",
      "execution_count": null,
      "id": "621e8f2a-d4a2-43aa-9f82-04bc57ca9cfa",
      "metadata": {
        "colab": {
          "base_uri": "https://localhost:8080/"
        },
        "id": "621e8f2a-d4a2-43aa-9f82-04bc57ca9cfa",
        "outputId": "e8eed6a1-3d00-48f6-af7b-2a8d0adb4c1c"
      },
      "outputs": [],
      "source": [
        "fs.check(dls)"
      ]
    },
    {
      "cell_type": "markdown",
      "id": "f87078c9-c42e-4020-9670-b2e99b0cbdd2",
      "metadata": {
        "id": "f87078c9-c42e-4020-9670-b2e99b0cbdd2"
      },
      "source": [
        "# Notes\n",
        "\n",
        "Below are the notes and summaries that I picked up on as part of doing this Sudoku exercise.\n",
        "\n",
        "##### General fastai \n",
        "* When first starting a fastai project, its critical to understand that everything leading up to creating a fastai `Learner` is just **data preparation** to the correct format that a Pytorch model can interpret (in other words, pre-learner tasks are just ETL steps). This may already be obvious to many, but for some reason it took ages to get through my head."
      ]
    },
    {
      "cell_type": "markdown",
      "id": "4KtF50-TBd0K",
      "metadata": {
        "id": "4KtF50-TBd0K"
      },
      "source": [
        "## DataLoaders\n"
      ]
    },
    {
      "cell_type": "markdown",
      "id": "Q2Eg2xgyBf24",
      "metadata": {
        "id": "Q2Eg2xgyBf24"
      },
      "source": [
        "* Their sole objective is to output a **list of tuples**\n",
        "    * where for each item in the list, the first element of the tuple is a single `x` value (independent variable), and the second element of the tuple is the `y` value (the dependent variable)\n",
        "        * In creating a `DataLoaders` object, we apply transforms to the data either as we are fetching the item (called `item_tfms`) or after the batch is collated (called `batch_tfms`)\n",
        "    * Note - when batched, all Xs and all Ys are **stacked into a single tuple**\n",
        "    \n",
        "##### TfmdDL - why did we use this class?\n",
        "* Inherits all of the transforms and callbacks applied to the `DataLoaders` object and applies them to an iterable.\n",
        "    * In theory, you could prevent fastai from using this class when creating a `DataLoaders` object by suppling an alternative class to the `dl_type` argument.\n",
        "* Under the hood, **this is the major class in fastai data preparation** that ultimately structures the data for use in the `Learner`\n",
        "\n",
        "##### Collate\n",
        "* I never understood this word even though I saw it everywhere. `fa_collate` and the Pytorch `default_collate` are the actual functions that create a batch. If they aren't applied, each \"batch\" would just be one tuple, where the first argument is a single input and the second argument is a single target. \n",
        "    * When these functions are used, they \"Puts each data field into a tensor with outer dimension batch size\". In other words, they stack items of batches together - one stack for inputs, one stack for targets\n",
        "    * These functions are what are called if you do not specify the `create_batch` callback\n",
        "        \n",
        "##### DataBlock\n",
        "* Prepackaged transforms for the most common types of data transformations in deep learning\n",
        "\n",
        "##### Transform\n",
        "* Converting the data (inputs/x and targets/y) into a format the computer understands and can perform matrix math on - tensors\n",
        "    * For deep learning, a transform directly or indirectly (via a **`Pipeline`**) converts a piece of data into a tensor"
      ]
    },
    {
      "cell_type": "code",
      "execution_count": null,
      "id": "7dd8b178-e213-48fe-afe0-92a43842e173",
      "metadata": {
        "id": "7dd8b178-e213-48fe-afe0-92a43842e173"
      },
      "outputs": [],
      "source": [
        "??DataLoaders"
      ]
    },
    {
      "cell_type": "markdown",
      "id": "c5c30ec0-a1cd-4285-b4c5-8e35a2b1c8f6",
      "metadata": {
        "id": "c5c30ec0-a1cd-4285-b4c5-8e35a2b1c8f6"
      },
      "source": [
        "## DataBlock"
      ]
    },
    {
      "cell_type": "markdown",
      "id": "e995a3b9-e7c6-4a01-be8b-7e66e03f2426",
      "metadata": {
        "id": "e995a3b9-e7c6-4a01-be8b-7e66e03f2426"
      },
      "source": [
        "fastai link: https://docs.fast.ai/data.block.html\n",
        "\n",
        "A `DataBlock` is the quickest way to create a `DataLoaders` object; it is the most *abstracted* class from pure Pytorch. It should be used first when there is not much customization needed.\n",
        "\n",
        "Remember - blocks are just **pre-packaged transforms**; they exist for the most common types of ML tasks (ie. `CategoryBlock`, `ImageBlock`)"
      ]
    },
    {
      "cell_type": "markdown",
      "id": "9f865033-7a19-4bd4-88d0-07a8811d6e45",
      "metadata": {
        "id": "9f865033-7a19-4bd4-88d0-07a8811d6e45"
      },
      "source": [
        "### Blocks"
      ]
    },
    {
      "cell_type": "markdown",
      "id": "90883688-23b1-4318-a3e6-ac6fa34c0d12",
      "metadata": {
        "id": "90883688-23b1-4318-a3e6-ac6fa34c0d12"
      },
      "source": [
        "We just said blocks are pre-packaged transforms. What does this really mean?\n",
        "\n",
        "Let's look at 2 common blocks: `ImageBlock` and `CategoryBlock`"
      ]
    },
    {
      "cell_type": "code",
      "execution_count": null,
      "id": "5301094c-033d-4784-a409-16623a6babd8",
      "metadata": {
        "id": "5301094c-033d-4784-a409-16623a6babd8"
      },
      "outputs": [],
      "source": [
        "CategoryBlock??"
      ]
    },
    {
      "cell_type": "code",
      "execution_count": null,
      "id": "020e57f8-2623-4b4f-8445-91e2f460aec5",
      "metadata": {
        "id": "020e57f8-2623-4b4f-8445-91e2f460aec5"
      },
      "outputs": [],
      "source": [
        "ImageBlock??"
      ]
    },
    {
      "cell_type": "markdown",
      "id": "91bc752b-1a4d-4f1d-b570-da413ca7f920",
      "metadata": {
        "id": "91bc752b-1a4d-4f1d-b570-da413ca7f920"
      },
      "source": [
        "This is interesting. Notice how there are no class methods - the only thing this class does is **store transforms** as attributes.\n",
        "\n",
        "Now take a look back at `ImageBlock` and `CategoryBlock` - these are both **functions** and not classes (despite them using class formatting)\n",
        "\n",
        "To recap:\n",
        "We know that blocks are to store transforms, and they all subclass `TransformBlock`. We have seen they are the first argument (generally) of the DataBlock API.\n",
        "\n",
        "> Note this term \"DataBlock API\" confused me for a while - in fact for a long time the term API in general caused confusion. To me, API in this sense just means a *callable* (function, class, url) that *abstracts* more complex code"
      ]
    },
    {
      "cell_type": "code",
      "execution_count": null,
      "id": "1cdc442b-8a6a-450e-9b3a-18c1558a41df",
      "metadata": {
        "id": "1cdc442b-8a6a-450e-9b3a-18c1558a41df"
      },
      "outputs": [],
      "source": [
        "DataBlock??"
      ]
    },
    {
      "cell_type": "markdown",
      "id": "9a625f76-34f6-400d-8a91-a23afeafd1e6",
      "metadata": {
        "id": "9a625f76-34f6-400d-8a91-a23afeafd1e6"
      },
      "source": [
        "The `L()` object have the `attrgot` method with is how fastai can extract class atributes from a `TransformBlock`. This took me forever to understand"
      ]
    },
    {
      "cell_type": "markdown",
      "id": "VZMMN63bLOVb",
      "metadata": {
        "id": "VZMMN63bLOVb"
      },
      "source": [
        "#### Getters\n",
        "\n",
        "While I tried to use this as well, it turns out that `getters` essentially apply `get_x` and `get_y` in a single step. So when would you actually use them instead? A [great fastai forum post](https://forums.fast.ai/t/fastai-v2-recipes-tips-and-tricks-wiki/64486?u=stantonius) gave an example of when your `get_items` function returns a list of tuples (and you subsequently need to extract the first item of each tuple as `x` and the second item as `y`)"
      ]
    },
    {
      "cell_type": "markdown",
      "id": "HRBwbxcs_be2",
      "metadata": {
        "id": "HRBwbxcs_be2"
      },
      "source": [
        "### Mini-Batch Shuffling\n",
        "\n",
        "A mini-batch by design **shuffles** the data to ensure the model does not overfit when training each mini-batch. \n",
        "\n",
        "Without shuffling, each mini-batch may contain similar data (meaning each training step adjustment modifies the model to only learn about that specific type of data, which will slow model training time) or the model may learn based on data order/sequence (which prevents model generalizability, the ultimate goal of a good model)."
      ]
    },
    {
      "cell_type": "markdown",
      "id": "deb24bce-da70-438f-8e59-6276fe6b6492",
      "metadata": {
        "id": "deb24bce-da70-438f-8e59-6276fe6b6492"
      },
      "source": [
        "## Next Steps"
      ]
    },
    {
      "cell_type": "markdown",
      "id": "3ae8495d-e072-4630-a269-371b1a3c48ca",
      "metadata": {
        "id": "3ae8495d-e072-4630-a269-371b1a3c48ca"
      },
      "source": [
        "* If I can find proper definitions for each of these functions, then I would like to compare someone's response to these definitions and use a model to see how similar their explanations are\n",
        "* Would like to add a summary table for all of our notes (had this working with `patch_to` but was a little messy)\n",
        "* Come up with a way to supress or decide when to print statements (so that printing doesn't happen in each cell)\n",
        "* Add some colour to text on the board a) where your guesses are and b) if they are correct or not"
      ]
    },
    {
      "cell_type": "code",
      "execution_count": null,
      "id": "2Td-P-Xeel_Z",
      "metadata": {
        "id": "2Td-P-Xeel_Z"
      },
      "outputs": [],
      "source": []
    }
  ],
  "metadata": {
    "colab": {
      "provenance": []
    },
    "kernelspec": {
      "display_name": "Python 3.10.4 ('test')",
      "language": "python",
      "name": "python3"
    },
    "language_info": {
      "codemirror_mode": {
        "name": "ipython",
        "version": 3
      },
      "file_extension": ".py",
      "mimetype": "text/x-python",
      "name": "python",
      "nbconvert_exporter": "python",
      "pygments_lexer": "ipython3",
      "version": "3.10.6"
    },
    "vscode": {
      "interpreter": {
        "hash": "0dd424858ccc172b7010629393bf302fa88edfb85e4e1d8e1aef28b39c1e001d"
      }
    },
    "widgets": {
      "application/vnd.jupyter.widget-state+json": {
        "1cdf17184caf43d6aa56ff9198d50bbe": {
          "model_module": "@jupyter-widgets/controls",
          "model_module_version": "1.5.0",
          "model_name": "ButtonModel",
          "state": {
            "_dom_classes": [],
            "_model_module": "@jupyter-widgets/controls",
            "_model_module_version": "1.5.0",
            "_model_name": "ButtonModel",
            "_view_count": null,
            "_view_module": "@jupyter-widgets/controls",
            "_view_module_version": "1.5.0",
            "_view_name": "ButtonView",
            "button_style": "",
            "description": "Show answer",
            "disabled": false,
            "icon": "",
            "layout": "IPY_MODEL_c1f9d0f4138b42eba4cd747676a168c0",
            "style": "IPY_MODEL_f8698d37783f4685aa910ec3fd0cec54",
            "tooltip": ""
          }
        },
        "2fb08448c9164d6ea1c98837dcc8bbdc": {
          "model_module": "@jupyter-widgets/output",
          "model_module_version": "1.0.0",
          "model_name": "OutputModel",
          "state": {
            "_dom_classes": [],
            "_model_module": "@jupyter-widgets/output",
            "_model_module_version": "1.0.0",
            "_model_name": "OutputModel",
            "_view_count": null,
            "_view_module": "@jupyter-widgets/output",
            "_view_module_version": "1.0.0",
            "_view_name": "OutputView",
            "layout": "IPY_MODEL_d45d9ee1803a4908b8207b35fab1cadb",
            "msg_id": "",
            "outputs": []
          }
        },
        "3f599e526295405b9621819005b4075d": {
          "model_module": "@jupyter-widgets/controls",
          "model_module_version": "1.5.0",
          "model_name": "ButtonStyleModel",
          "state": {
            "_model_module": "@jupyter-widgets/controls",
            "_model_module_version": "1.5.0",
            "_model_name": "ButtonStyleModel",
            "_view_count": null,
            "_view_module": "@jupyter-widgets/base",
            "_view_module_version": "1.2.0",
            "_view_name": "StyleView",
            "button_color": null,
            "font_weight": ""
          }
        },
        "4ba403f580b649c5b082aef7c9fab0af": {
          "model_module": "@jupyter-widgets/base",
          "model_module_version": "1.2.0",
          "model_name": "LayoutModel",
          "state": {
            "_model_module": "@jupyter-widgets/base",
            "_model_module_version": "1.2.0",
            "_model_name": "LayoutModel",
            "_view_count": null,
            "_view_module": "@jupyter-widgets/base",
            "_view_module_version": "1.2.0",
            "_view_name": "LayoutView",
            "align_content": null,
            "align_items": null,
            "align_self": null,
            "border": null,
            "bottom": null,
            "display": null,
            "flex": null,
            "flex_flow": null,
            "grid_area": null,
            "grid_auto_columns": null,
            "grid_auto_flow": null,
            "grid_auto_rows": null,
            "grid_column": null,
            "grid_gap": null,
            "grid_row": null,
            "grid_template_areas": null,
            "grid_template_columns": null,
            "grid_template_rows": null,
            "height": null,
            "justify_content": null,
            "justify_items": null,
            "left": null,
            "margin": null,
            "max_height": null,
            "max_width": null,
            "min_height": null,
            "min_width": null,
            "object_fit": null,
            "object_position": null,
            "order": null,
            "overflow": null,
            "overflow_x": null,
            "overflow_y": null,
            "padding": null,
            "right": null,
            "top": null,
            "visibility": null,
            "width": null
          }
        },
        "61e47cc24d2d404d9e3ea4f1a3b6ed28": {
          "model_module": "@jupyter-widgets/base",
          "model_module_version": "1.2.0",
          "model_name": "LayoutModel",
          "state": {
            "_model_module": "@jupyter-widgets/base",
            "_model_module_version": "1.2.0",
            "_model_name": "LayoutModel",
            "_view_count": null,
            "_view_module": "@jupyter-widgets/base",
            "_view_module_version": "1.2.0",
            "_view_name": "LayoutView",
            "align_content": null,
            "align_items": null,
            "align_self": null,
            "border": null,
            "bottom": null,
            "display": null,
            "flex": null,
            "flex_flow": null,
            "grid_area": null,
            "grid_auto_columns": null,
            "grid_auto_flow": null,
            "grid_auto_rows": null,
            "grid_column": null,
            "grid_gap": null,
            "grid_row": null,
            "grid_template_areas": null,
            "grid_template_columns": null,
            "grid_template_rows": null,
            "height": null,
            "justify_content": null,
            "justify_items": null,
            "left": null,
            "margin": null,
            "max_height": null,
            "max_width": null,
            "min_height": null,
            "min_width": null,
            "object_fit": null,
            "object_position": null,
            "order": null,
            "overflow": null,
            "overflow_x": null,
            "overflow_y": null,
            "padding": null,
            "right": null,
            "top": null,
            "visibility": null,
            "width": null
          }
        },
        "65d8add5dd484fe9835d4b69231674e3": {
          "model_module": "@jupyter-widgets/controls",
          "model_module_version": "1.5.0",
          "model_name": "ButtonModel",
          "state": {
            "_dom_classes": [],
            "_model_module": "@jupyter-widgets/controls",
            "_model_module_version": "1.5.0",
            "_model_name": "ButtonModel",
            "_view_count": null,
            "_view_module": "@jupyter-widgets/controls",
            "_view_module_version": "1.5.0",
            "_view_name": "ButtonView",
            "button_style": "",
            "description": "Show answer",
            "disabled": false,
            "icon": "",
            "layout": "IPY_MODEL_7f1405eae45e48629638a161fdfa8882",
            "style": "IPY_MODEL_3f599e526295405b9621819005b4075d",
            "tooltip": ""
          }
        },
        "689f4e7c6aa74d6c8786d42bf6902e5b": {
          "model_module": "@jupyter-widgets/output",
          "model_module_version": "1.0.0",
          "model_name": "OutputModel",
          "state": {
            "_dom_classes": [],
            "_model_module": "@jupyter-widgets/output",
            "_model_module_version": "1.0.0",
            "_model_name": "OutputModel",
            "_view_count": null,
            "_view_module": "@jupyter-widgets/output",
            "_view_module_version": "1.0.0",
            "_view_name": "OutputView",
            "layout": "IPY_MODEL_a0a4cdf6597e40d38ef2e7b5bb94c3ef",
            "msg_id": "",
            "outputs": []
          }
        },
        "73d32b154a1745a29fcca50a19c70bb6": {
          "model_module": "@jupyter-widgets/controls",
          "model_module_version": "1.5.0",
          "model_name": "ButtonModel",
          "state": {
            "_dom_classes": [],
            "_model_module": "@jupyter-widgets/controls",
            "_model_module_version": "1.5.0",
            "_model_name": "ButtonModel",
            "_view_count": null,
            "_view_module": "@jupyter-widgets/controls",
            "_view_module_version": "1.5.0",
            "_view_name": "ButtonView",
            "button_style": "",
            "description": "Show answer",
            "disabled": false,
            "icon": "",
            "layout": "IPY_MODEL_fdbed2b1e16443169a20896311a1543a",
            "style": "IPY_MODEL_ab440cfb3bfa4720820c8fa8a3bf333a",
            "tooltip": ""
          }
        },
        "7b7cdb8f4b9e40f5b0635799865ab3e0": {
          "model_module": "@jupyter-widgets/controls",
          "model_module_version": "1.5.0",
          "model_name": "ButtonModel",
          "state": {
            "_dom_classes": [],
            "_model_module": "@jupyter-widgets/controls",
            "_model_module_version": "1.5.0",
            "_model_name": "ButtonModel",
            "_view_count": null,
            "_view_module": "@jupyter-widgets/controls",
            "_view_module_version": "1.5.0",
            "_view_name": "ButtonView",
            "button_style": "",
            "description": "Show answer",
            "disabled": false,
            "icon": "",
            "layout": "IPY_MODEL_922fba837a164733b8e915cb3412a75c",
            "style": "IPY_MODEL_bcd9be51d00b4f0eaddd5746ffabe4fe",
            "tooltip": ""
          }
        },
        "7f1405eae45e48629638a161fdfa8882": {
          "model_module": "@jupyter-widgets/base",
          "model_module_version": "1.2.0",
          "model_name": "LayoutModel",
          "state": {
            "_model_module": "@jupyter-widgets/base",
            "_model_module_version": "1.2.0",
            "_model_name": "LayoutModel",
            "_view_count": null,
            "_view_module": "@jupyter-widgets/base",
            "_view_module_version": "1.2.0",
            "_view_name": "LayoutView",
            "align_content": null,
            "align_items": null,
            "align_self": null,
            "border": null,
            "bottom": null,
            "display": null,
            "flex": null,
            "flex_flow": null,
            "grid_area": null,
            "grid_auto_columns": null,
            "grid_auto_flow": null,
            "grid_auto_rows": null,
            "grid_column": null,
            "grid_gap": null,
            "grid_row": null,
            "grid_template_areas": null,
            "grid_template_columns": null,
            "grid_template_rows": null,
            "height": null,
            "justify_content": null,
            "justify_items": null,
            "left": null,
            "margin": null,
            "max_height": null,
            "max_width": null,
            "min_height": null,
            "min_width": null,
            "object_fit": null,
            "object_position": null,
            "order": null,
            "overflow": null,
            "overflow_x": null,
            "overflow_y": null,
            "padding": null,
            "right": null,
            "top": null,
            "visibility": null,
            "width": null
          }
        },
        "922fba837a164733b8e915cb3412a75c": {
          "model_module": "@jupyter-widgets/base",
          "model_module_version": "1.2.0",
          "model_name": "LayoutModel",
          "state": {
            "_model_module": "@jupyter-widgets/base",
            "_model_module_version": "1.2.0",
            "_model_name": "LayoutModel",
            "_view_count": null,
            "_view_module": "@jupyter-widgets/base",
            "_view_module_version": "1.2.0",
            "_view_name": "LayoutView",
            "align_content": null,
            "align_items": null,
            "align_self": null,
            "border": null,
            "bottom": null,
            "display": null,
            "flex": null,
            "flex_flow": null,
            "grid_area": null,
            "grid_auto_columns": null,
            "grid_auto_flow": null,
            "grid_auto_rows": null,
            "grid_column": null,
            "grid_gap": null,
            "grid_row": null,
            "grid_template_areas": null,
            "grid_template_columns": null,
            "grid_template_rows": null,
            "height": null,
            "justify_content": null,
            "justify_items": null,
            "left": null,
            "margin": null,
            "max_height": null,
            "max_width": null,
            "min_height": null,
            "min_width": null,
            "object_fit": null,
            "object_position": null,
            "order": null,
            "overflow": null,
            "overflow_x": null,
            "overflow_y": null,
            "padding": null,
            "right": null,
            "top": null,
            "visibility": null,
            "width": null
          }
        },
        "a0a4cdf6597e40d38ef2e7b5bb94c3ef": {
          "model_module": "@jupyter-widgets/base",
          "model_module_version": "1.2.0",
          "model_name": "LayoutModel",
          "state": {
            "_model_module": "@jupyter-widgets/base",
            "_model_module_version": "1.2.0",
            "_model_name": "LayoutModel",
            "_view_count": null,
            "_view_module": "@jupyter-widgets/base",
            "_view_module_version": "1.2.0",
            "_view_name": "LayoutView",
            "align_content": null,
            "align_items": null,
            "align_self": null,
            "border": null,
            "bottom": null,
            "display": null,
            "flex": null,
            "flex_flow": null,
            "grid_area": null,
            "grid_auto_columns": null,
            "grid_auto_flow": null,
            "grid_auto_rows": null,
            "grid_column": null,
            "grid_gap": null,
            "grid_row": null,
            "grid_template_areas": null,
            "grid_template_columns": null,
            "grid_template_rows": null,
            "height": null,
            "justify_content": null,
            "justify_items": null,
            "left": null,
            "margin": null,
            "max_height": null,
            "max_width": null,
            "min_height": null,
            "min_width": null,
            "object_fit": null,
            "object_position": null,
            "order": null,
            "overflow": null,
            "overflow_x": null,
            "overflow_y": null,
            "padding": null,
            "right": null,
            "top": null,
            "visibility": null,
            "width": null
          }
        },
        "ab440cfb3bfa4720820c8fa8a3bf333a": {
          "model_module": "@jupyter-widgets/controls",
          "model_module_version": "1.5.0",
          "model_name": "ButtonStyleModel",
          "state": {
            "_model_module": "@jupyter-widgets/controls",
            "_model_module_version": "1.5.0",
            "_model_name": "ButtonStyleModel",
            "_view_count": null,
            "_view_module": "@jupyter-widgets/base",
            "_view_module_version": "1.2.0",
            "_view_name": "StyleView",
            "button_color": null,
            "font_weight": ""
          }
        },
        "bcd9be51d00b4f0eaddd5746ffabe4fe": {
          "model_module": "@jupyter-widgets/controls",
          "model_module_version": "1.5.0",
          "model_name": "ButtonStyleModel",
          "state": {
            "_model_module": "@jupyter-widgets/controls",
            "_model_module_version": "1.5.0",
            "_model_name": "ButtonStyleModel",
            "_view_count": null,
            "_view_module": "@jupyter-widgets/base",
            "_view_module_version": "1.2.0",
            "_view_name": "StyleView",
            "button_color": null,
            "font_weight": ""
          }
        },
        "bd4d2fd8b73b4c6994e201e9393236fc": {
          "model_module": "@jupyter-widgets/output",
          "model_module_version": "1.0.0",
          "model_name": "OutputModel",
          "state": {
            "_dom_classes": [],
            "_model_module": "@jupyter-widgets/output",
            "_model_module_version": "1.0.0",
            "_model_name": "OutputModel",
            "_view_count": null,
            "_view_module": "@jupyter-widgets/output",
            "_view_module_version": "1.0.0",
            "_view_name": "OutputView",
            "layout": "IPY_MODEL_61e47cc24d2d404d9e3ea4f1a3b6ed28",
            "msg_id": "",
            "outputs": []
          }
        },
        "c1f9d0f4138b42eba4cd747676a168c0": {
          "model_module": "@jupyter-widgets/base",
          "model_module_version": "1.2.0",
          "model_name": "LayoutModel",
          "state": {
            "_model_module": "@jupyter-widgets/base",
            "_model_module_version": "1.2.0",
            "_model_name": "LayoutModel",
            "_view_count": null,
            "_view_module": "@jupyter-widgets/base",
            "_view_module_version": "1.2.0",
            "_view_name": "LayoutView",
            "align_content": null,
            "align_items": null,
            "align_self": null,
            "border": null,
            "bottom": null,
            "display": null,
            "flex": null,
            "flex_flow": null,
            "grid_area": null,
            "grid_auto_columns": null,
            "grid_auto_flow": null,
            "grid_auto_rows": null,
            "grid_column": null,
            "grid_gap": null,
            "grid_row": null,
            "grid_template_areas": null,
            "grid_template_columns": null,
            "grid_template_rows": null,
            "height": null,
            "justify_content": null,
            "justify_items": null,
            "left": null,
            "margin": null,
            "max_height": null,
            "max_width": null,
            "min_height": null,
            "min_width": null,
            "object_fit": null,
            "object_position": null,
            "order": null,
            "overflow": null,
            "overflow_x": null,
            "overflow_y": null,
            "padding": null,
            "right": null,
            "top": null,
            "visibility": null,
            "width": null
          }
        },
        "cd8d958251b3448d8bbf1de6bf46be07": {
          "model_module": "@jupyter-widgets/output",
          "model_module_version": "1.0.0",
          "model_name": "OutputModel",
          "state": {
            "_dom_classes": [],
            "_model_module": "@jupyter-widgets/output",
            "_model_module_version": "1.0.0",
            "_model_name": "OutputModel",
            "_view_count": null,
            "_view_module": "@jupyter-widgets/output",
            "_view_module_version": "1.0.0",
            "_view_name": "OutputView",
            "layout": "IPY_MODEL_4ba403f580b649c5b082aef7c9fab0af",
            "msg_id": "",
            "outputs": []
          }
        },
        "d45d9ee1803a4908b8207b35fab1cadb": {
          "model_module": "@jupyter-widgets/base",
          "model_module_version": "1.2.0",
          "model_name": "LayoutModel",
          "state": {
            "_model_module": "@jupyter-widgets/base",
            "_model_module_version": "1.2.0",
            "_model_name": "LayoutModel",
            "_view_count": null,
            "_view_module": "@jupyter-widgets/base",
            "_view_module_version": "1.2.0",
            "_view_name": "LayoutView",
            "align_content": null,
            "align_items": null,
            "align_self": null,
            "border": null,
            "bottom": null,
            "display": null,
            "flex": null,
            "flex_flow": null,
            "grid_area": null,
            "grid_auto_columns": null,
            "grid_auto_flow": null,
            "grid_auto_rows": null,
            "grid_column": null,
            "grid_gap": null,
            "grid_row": null,
            "grid_template_areas": null,
            "grid_template_columns": null,
            "grid_template_rows": null,
            "height": null,
            "justify_content": null,
            "justify_items": null,
            "left": null,
            "margin": null,
            "max_height": null,
            "max_width": null,
            "min_height": null,
            "min_width": null,
            "object_fit": null,
            "object_position": null,
            "order": null,
            "overflow": null,
            "overflow_x": null,
            "overflow_y": null,
            "padding": null,
            "right": null,
            "top": null,
            "visibility": null,
            "width": null
          }
        },
        "f8698d37783f4685aa910ec3fd0cec54": {
          "model_module": "@jupyter-widgets/controls",
          "model_module_version": "1.5.0",
          "model_name": "ButtonStyleModel",
          "state": {
            "_model_module": "@jupyter-widgets/controls",
            "_model_module_version": "1.5.0",
            "_model_name": "ButtonStyleModel",
            "_view_count": null,
            "_view_module": "@jupyter-widgets/base",
            "_view_module_version": "1.2.0",
            "_view_name": "StyleView",
            "button_color": null,
            "font_weight": ""
          }
        },
        "fdbed2b1e16443169a20896311a1543a": {
          "model_module": "@jupyter-widgets/base",
          "model_module_version": "1.2.0",
          "model_name": "LayoutModel",
          "state": {
            "_model_module": "@jupyter-widgets/base",
            "_model_module_version": "1.2.0",
            "_model_name": "LayoutModel",
            "_view_count": null,
            "_view_module": "@jupyter-widgets/base",
            "_view_module_version": "1.2.0",
            "_view_name": "LayoutView",
            "align_content": null,
            "align_items": null,
            "align_self": null,
            "border": null,
            "bottom": null,
            "display": null,
            "flex": null,
            "flex_flow": null,
            "grid_area": null,
            "grid_auto_columns": null,
            "grid_auto_flow": null,
            "grid_auto_rows": null,
            "grid_column": null,
            "grid_gap": null,
            "grid_row": null,
            "grid_template_areas": null,
            "grid_template_columns": null,
            "grid_template_rows": null,
            "height": null,
            "justify_content": null,
            "justify_items": null,
            "left": null,
            "margin": null,
            "max_height": null,
            "max_width": null,
            "min_height": null,
            "min_width": null,
            "object_fit": null,
            "object_position": null,
            "order": null,
            "overflow": null,
            "overflow_x": null,
            "overflow_y": null,
            "padding": null,
            "right": null,
            "top": null,
            "visibility": null,
            "width": null
          }
        }
      }
    }
  },
  "nbformat": 4,
  "nbformat_minor": 5
}
