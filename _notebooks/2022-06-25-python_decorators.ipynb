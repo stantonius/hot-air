{
 "cells": [
  {
   "cell_type": "markdown",
   "metadata": {},
   "source": [
    "# Decorators in Python\n",
    "\n",
    "> \"A intro summary of Python decorators\"\n",
    "\n",
    "- toc: true\n",
    "- branch: master\n",
    "- badges: true\n",
    "- comments: true\n",
    "- author: Craig Stanton\n",
    "- hide: false\n",
    "- categories: [python, decorators]"
   ]
  },
  {
   "cell_type": "markdown",
   "metadata": {},
   "source": [
    "Decorators are awesome - but how do they actually work? "
   ]
  },
  {
   "cell_type": "markdown",
   "metadata": {},
   "source": [
    "This is an overview of my takeaways from a deep dive into decorators. It does not cover all concepts of decorators, nor does it reveal anything revolutionary. My goal with this post is to summarize the concepts that will help to build and troubleshoot decorators in our code, knowing full well that we will probably need to refer to the specific formatting of decorator design when writing in a project."
   ]
  },
  {
   "cell_type": "markdown",
   "metadata": {},
   "source": [
    "### TL;DR"
   ]
  },
  {
   "cell_type": "markdown",
   "metadata": {},
   "source": [
    "* Decorators are functions that take functiions as arguments in order to change the behaviour of the passed function\n",
    "* You write decorators **quite differently** if the decorator accepts arguments vs if it does not accept any arguments\n",
    "    * A decorator with no arguments: has 1 inner function (commonly named `wrapper` but there are not rules regarding this that I've seen), and it returns the wrapper **object** (*not the called function*)\n",
    "        ```python\n",
    "        def decorator(func):\n",
    "            def wrapper(*args, **kwargs):\n",
    "                print(\"Can do something here before the passed function is called\")\n",
    "                result = func(*args, **kwargs)\n",
    "                print(\"You can modify the result of the function output here\")\n",
    "                return result\n",
    "            return wrapper\n",
    "        ```\n",
    "    * A decorator that accepts arguments has **2 inner functions**:\n",
    "        ```python\n",
    "        def decorator_args(bool_arg: bool = False) -> str:\n",
    "            def inner(func):                      # inner accepts func\n",
    "                def wrapper(*args, **kwargs):     # wrapper accepts args and kwargs for func\n",
    "                    if bool_arg:\n",
    "                        print(\"Conditionally update a function based on the decorator argument\")\n",
    "                        return func(*args, **kwargs).upper()\n",
    "                    return func(*args, **kwargs).lower()\n",
    "                return wrapper\n",
    "            return inner\n",
    "        ```\n",
    "* Once you understand function decorators, class decorators are *sort of* a logical extension using class magic methods instead\n",
    "    * A class decorator with no arguments:\n",
    "        ```python\n",
    "        class decorator:\n",
    "            def __init__(self, func):\n",
    "                self.func = func                    # func is processed in __init__\n",
    "\n",
    "            def __call__(self, *args, **kwargs):    # __call__ acts as an inner wrapper function; accepts args for func\n",
    "                def wrapper(*args, **kwargs):\n",
    "                    print(\"Can do something here\")\n",
    "                    return func(*args, **kwargs)\n",
    "                return wrapper\n",
    "        ```\n",
    "    * A class decorator with args:\n",
    "        ```python\n",
    "        class decorator_args:\n",
    "            def __init__(self, *decorator_args, **decorator_kwargs):    # func is not passed in init; it is passed in __call__\n",
    "                self.arg1 = decorator_args[0]\n",
    "                self.arg2 = decorator_kwargs[\"arg2\"]\n",
    "\n",
    "            def __call__(self, func):\n",
    "                def wrapper(*args, **kwargs):\n",
    "                    print(\"Can modify the func based on decorator args\")    \n",
    "                    return func(*args, **kwargs)\n",
    "                return wrapper\n",
    "        ```\n",
    "    * Important difference with class decorators:\n",
    "        * Despite its name, `__call__` is only called once at instantiation. The inner `wrapper` function is what is called every subsequent call.\n",
    "* A decorator typically returns a function *object* (on the callable function)\n"
   ]
  },
  {
   "cell_type": "markdown",
   "metadata": {},
   "source": [
    "### Example Setup"
   ]
  },
  {
   "cell_type": "markdown",
   "metadata": {},
   "source": [
    "Let's create a decorator that modifies the output of an API response. This is based on a real use case I am working on, where the code calls different endpoints of the *same API service*, meaning the responses and errors are standardized across the various endpoints.\n",
    "\n",
    "Instead of building in parsing and error handling into each call, I use a decorator to handle this one time."
   ]
  },
  {
   "cell_type": "markdown",
   "metadata": {},
   "source": [
    "First let's look at a sample response:"
   ]
  },
  {
   "cell_type": "code",
   "execution_count": 5,
   "metadata": {},
   "outputs": [],
   "source": [
    "import requests"
   ]
  },
  {
   "cell_type": "code",
   "execution_count": 6,
   "metadata": {},
   "outputs": [
    {
     "data": {
      "text/plain": [
       "{'results': [{'gender': 'female',\n",
       "   'name': {'title': 'Miss', 'first': 'محیا', 'last': 'حسینی'},\n",
       "   'location': {'street': {'number': 2649, 'name': 'میدان قیام'},\n",
       "    'city': 'خوی',\n",
       "    'state': 'مازندران',\n",
       "    'country': 'Iran',\n",
       "    'postcode': 64139,\n",
       "    'coordinates': {'latitude': '29.7035', 'longitude': '148.9815'},\n",
       "    'timezone': {'offset': '+10:00',\n",
       "     'description': 'Eastern Australia, Guam, Vladivostok'}},\n",
       "   'email': 'mhy.hsyny@example.com',\n",
       "   'login': {'uuid': '913f4c6a-9f76-48dd-bcd8-02d4952f94c4',\n",
       "    'username': 'orangebird224',\n",
       "    'password': 'sinclair',\n",
       "    'salt': '9EAHZ37U',\n",
       "    'md5': '8b84bf452f8acd65c1810dc636425b37',\n",
       "    'sha1': 'c09d34e11d135ef304e45afaadbf2e9648a5e416',\n",
       "    'sha256': '3100f6d098cd5e95dd6a633399873a96bff426c0a0496f56925456eab6fe0619'},\n",
       "   'dob': {'date': '1991-10-20T18:10:11.390Z', 'age': 31},\n",
       "   'registered': {'date': '2007-03-07T14:25:53.978Z', 'age': 15},\n",
       "   'phone': '031-96272721',\n",
       "   'cell': '0906-402-0122',\n",
       "   'id': {'name': '', 'value': None},\n",
       "   'picture': {'large': 'https://randomuser.me/api/portraits/women/58.jpg',\n",
       "    'medium': 'https://randomuser.me/api/portraits/med/women/58.jpg',\n",
       "    'thumbnail': 'https://randomuser.me/api/portraits/thumb/women/58.jpg'},\n",
       "   'nat': 'IR'}],\n",
       " 'info': {'seed': '7563715e852e1f90',\n",
       "  'results': 1,\n",
       "  'page': 1,\n",
       "  'version': '1.3'}}"
      ]
     },
     "execution_count": 6,
     "metadata": {},
     "output_type": "execute_result"
    }
   ],
   "source": [
    "base_url = \"https://randomuser.me/api/\"\n",
    "\n",
    "def api_single_user():\n",
    "    response = requests.get(base_url)\n",
    "    return response.json()\n",
    "\n",
    "api_single_user()"
   ]
  },
  {
   "cell_type": "markdown",
   "metadata": {},
   "source": [
    "The response is a dictionary. In practice, my experience is that we should be using a `dataclass` or a Pydantic model to manage dictionary responses. However we will keep as a dict for this exercise."
   ]
  },
  {
   "cell_type": "markdown",
   "metadata": {},
   "source": [
    "### Function decorators"
   ]
  },
  {
   "cell_type": "markdown",
   "metadata": {},
   "source": [
    "If we know that we will always need to call either the `.lower()` or `upper()` string method following every API call, we could use a decorator to do this for us. \n",
    "\n",
    "Why even do this simple code with a decorator?\n",
    "\n",
    "Aside from apeasing the DRY Python methodology, I find decorators are a nice visual queue when reading code - seeing a decorator above a function is easier to read than burried code within each function, in my opinion."
   ]
  },
  {
   "cell_type": "markdown",
   "metadata": {},
   "source": [
    "##### Creating Function Decorators\n",
    "\n",
    "So how do we create different types of decorators?\n",
    "\n",
    "Below we write a decorator that 1) doesn't accept arguments and 2) does accept arguments"
   ]
  },
  {
   "cell_type": "code",
   "execution_count": 7,
   "metadata": {},
   "outputs": [],
   "source": [
    "def lower_no_args(func) -> str:\n",
    "    def wrapper(*args, **kwargs):\n",
    "        return func(*args, **kwargs).lower()\n",
    "    return wrapper"
   ]
  },
  {
   "cell_type": "code",
   "execution_count": 8,
   "metadata": {},
   "outputs": [],
   "source": [
    "\n",
    "def lower_args(caps: bool = False) -> str:\n",
    "    def inner(func):                       # inner accepts func\n",
    "        def wrapper(*args, **kwargs):      # wrapper accepts args and kwargs for func\n",
    "            if caps:\n",
    "                return func(*args, **kwargs).upper()\n",
    "            return func(*args, **kwargs).lower()\n",
    "        return wrapper\n",
    "    return inner"
   ]
  },
  {
   "cell_type": "markdown",
   "metadata": {},
   "source": [
    "Let's see how each of these work"
   ]
  },
  {
   "cell_type": "code",
   "execution_count": 9,
   "metadata": {},
   "outputs": [
    {
     "data": {
      "text/plain": [
       "'norberta'"
      ]
     },
     "execution_count": 9,
     "metadata": {},
     "output_type": "execute_result"
    }
   ],
   "source": [
    "@lower_no_args\n",
    "def single_user_firstname():\n",
    "    return api_single_user()[\"results\"][0][\"name\"][\"first\"]\n",
    "\n",
    "single_user_firstname()"
   ]
  },
  {
   "cell_type": "code",
   "execution_count": 10,
   "metadata": {},
   "outputs": [
    {
     "data": {
      "text/plain": [
       "'terry'"
      ]
     },
     "execution_count": 10,
     "metadata": {},
     "output_type": "execute_result"
    }
   ],
   "source": [
    "@lower_args()         # notice the callable\n",
    "def single_user_firstname_caps():\n",
    "    return api_single_user()[\"results\"][0][\"name\"][\"first\"]\n",
    "\n",
    "single_user_firstname_caps()\n"
   ]
  },
  {
   "cell_type": "code",
   "execution_count": 11,
   "metadata": {},
   "outputs": [
    {
     "data": {
      "text/plain": [
       "'DICKY'"
      ]
     },
     "execution_count": 11,
     "metadata": {},
     "output_type": "execute_result"
    }
   ],
   "source": [
    "\n",
    "@lower_args(caps=True)\n",
    "def single_user_firstname_caps():\n",
    "    return api_single_user()[\"results\"][0][\"name\"][\"first\"]\n",
    "\n",
    "single_user_firstname_caps()\n"
   ]
  },
  {
   "cell_type": "markdown",
   "metadata": {},
   "source": [
    "#### To Summarize\n",
    "\n",
    "You will have seen that the `lower_args` decorator accepts an argument. As a result - there is a **second `inner` function** that *accepts the passed function as an argument*.\n",
    "\n",
    "This was important for me to realize - we are now dealing with 3 functions *when the decorator accepts arguments*: the decorator itself, the inner function that accepts the function to decorate, and finally the wrapper function that accepts the arguments passed to the decorated function. This is a lot to...wrap... your head around. However there is no sense in memorizing this since you can look the details up any time - what is helpful to remember is simply:\n",
    "\n",
    "> If a decorator accepts arguments (required or optional), there is a *second internal function* that you must build."
   ]
  },
  {
   "cell_type": "markdown",
   "metadata": {},
   "source": [
    "As mentioned in [this awesome post](https://aikikode.me/blog/python-decorators-manual/#asynchronous-decorators), you can also make decorators that optionally accept arguments. "
   ]
  },
  {
   "cell_type": "markdown",
   "metadata": {},
   "source": [
    "### Class Decorators"
   ]
  },
  {
   "cell_type": "markdown",
   "metadata": {},
   "source": [
    "Let's do the same thing but with class decorators"
   ]
  },
  {
   "cell_type": "code",
   "execution_count": 12,
   "metadata": {},
   "outputs": [],
   "source": [
    "class lower_no_args:\n",
    "    def __init__(self, func):\n",
    "        self.func = func            # func is processed in __init__\n",
    "\n",
    "    def __call__(self, *args, **kwargs):   # __call__ acts as an inner wrapper function\n",
    "        return self.func(*args, **kwargs).lower()"
   ]
  },
  {
   "cell_type": "code",
   "execution_count": 13,
   "metadata": {},
   "outputs": [],
   "source": [
    "class lower_args:\n",
    "    def __init__(self, caps: bool = False):\n",
    "        self.caps = caps            # func is not passed in init; it is passed in __call__\n",
    "\n",
    "    def __call__(self, func):\n",
    "        def wrapper(*args, **kwargs):   # wrapper accepts args and kwargs for func\n",
    "            if self.caps:\n",
    "                return func(*args, **kwargs).upper()\n",
    "            return func(*args, **kwargs).lower()\n",
    "        return wrapper"
   ]
  },
  {
   "cell_type": "markdown",
   "metadata": {},
   "source": [
    "One thing to notice is that naming convention for class decorators does not follow normal \"title case\" for classes. "
   ]
  },
  {
   "cell_type": "markdown",
   "metadata": {},
   "source": [
    "Let's again see how each of these work"
   ]
  },
  {
   "cell_type": "code",
   "execution_count": 15,
   "metadata": {},
   "outputs": [
    {
     "name": "stdout",
     "output_type": "stream",
     "text": [
      "__call__ called with args: () and kwargs: {}\n"
     ]
    },
    {
     "data": {
      "text/plain": [
       "'philip'"
      ]
     },
     "execution_count": 15,
     "metadata": {},
     "output_type": "execute_result"
    }
   ],
   "source": [
    "@lower_no_args\n",
    "def single_user_firstname():\n",
    "    return api_single_user()[\"results\"][0][\"name\"][\"first\"]\n",
    "\n",
    "single_user_firstname()"
   ]
  },
  {
   "cell_type": "code",
   "execution_count": 16,
   "metadata": {},
   "outputs": [
    {
     "data": {
      "text/plain": [
       "'giray'"
      ]
     },
     "execution_count": 16,
     "metadata": {},
     "output_type": "execute_result"
    }
   ],
   "source": [
    "@lower_args()\n",
    "def single_user_firstname_caps():\n",
    "    return api_single_user()[\"results\"][0][\"name\"][\"first\"]\n",
    "\n",
    "single_user_firstname_caps()"
   ]
  },
  {
   "cell_type": "code",
   "execution_count": 17,
   "metadata": {},
   "outputs": [
    {
     "data": {
      "text/plain": [
       "'ROLAND'"
      ]
     },
     "execution_count": 17,
     "metadata": {},
     "output_type": "execute_result"
    }
   ],
   "source": [
    "@lower_args(caps=True)\n",
    "def single_user_firstname_caps():\n",
    "    return api_single_user()[\"results\"][0][\"name\"][\"first\"]\n",
    "\n",
    "single_user_firstname_caps()"
   ]
  },
  {
   "cell_type": "markdown",
   "metadata": {},
   "source": [
    "As you can see, if the decorator needs to receive arguments, there is a second inner function we must define. The only difference is that the first inner function for a class decorator is the `__call__` method.\n",
    "\n",
    "OK so why would you ever use a class decorator if it behaves the same as a function decorator?\n",
    "\n",
    "There are two scenarios I have seen where class decorators are useful:\n",
    "1. If the decorator needs to track soome sort of state\n",
    "2. Using classmethods to derive specific behaviour while using a standard base class (ie. `@modify.upper()` and `@modify.lower()` would be classmethods of the base `modify` class decorator)"
   ]
  },
  {
   "cell_type": "markdown",
   "metadata": {},
   "source": [
    "#### Class Decorator Usage Examples"
   ]
  },
  {
   "cell_type": "markdown",
   "metadata": {},
   "source": [
    "Lets add some sort of state that we want our decorator to keep track of. Let's imagine counting the number of times the API was called - this is a basic example but could be used as a mechanism to throttle the average API calls per minute."
   ]
  },
  {
   "cell_type": "code",
   "execution_count": 82,
   "metadata": {},
   "outputs": [],
   "source": [
    "class lower_args:\n",
    "    def __init__(self, caps: bool = False):\n",
    "        self.caps = caps            # func is not passed in init; it is passed in __call__\n",
    "        self.num_calls = 0\n",
    "\n",
    "    def __call__(self, func):\n",
    "        def wrapper(*args, **kwargs):   # wrapper accepts args and kwargs for func\n",
    "            if self.caps:\n",
    "                return func(*args, **kwargs).upper()\n",
    "            return func(*args, **kwargs).lower()\n",
    "        self.num_calls += 1\n",
    "        print(f\"Num calls: {self.num_calls}\")\n",
    "        return wrapper"
   ]
  },
  {
   "cell_type": "code",
   "execution_count": 80,
   "metadata": {},
   "outputs": [
    {
     "name": "stdout",
     "output_type": "stream",
     "text": [
      "1282.0\n"
     ]
    },
    {
     "data": {
      "text/plain": [
       "'NEUSA'"
      ]
     },
     "execution_count": 80,
     "metadata": {},
     "output_type": "execute_result"
    }
   ],
   "source": [
    "@lower_args(caps=True)\n",
    "def single_user_firstname_caps():\n",
    "    return api_single_user()[\"results\"][0][\"name\"][\"first\"]\n",
    "\n",
    "single_user_firstname_caps()"
   ]
  },
  {
   "cell_type": "code",
   "execution_count": 81,
   "metadata": {},
   "outputs": [
    {
     "data": {
      "text/plain": [
       "'MATTHEW'"
      ]
     },
     "execution_count": 81,
     "metadata": {},
     "output_type": "execute_result"
    }
   ],
   "source": [
    "single_user_firstname_caps()\n",
    "single_user_firstname_caps()"
   ]
  },
  {
   "cell_type": "markdown",
   "metadata": {},
   "source": [
    "Why didn't the second and third API calls print the statement?\n",
    "\n",
    "It turns out that just like `__init__`, the `__call__` method is only called **once**. As a decorator, this means only the first function call triggers these methods. \n",
    "\n",
    "> Once the class generator has been instantiated (ie. used once), only the inner `wrapper` function is called subsequently.\n",
    "\n",
    "As a result, any update to the class state must be embedded in the `wrapper`:"
   ]
  },
  {
   "cell_type": "code",
   "execution_count": 21,
   "metadata": {},
   "outputs": [],
   "source": [
    "class lower_args:\n",
    "    def __init__(self, caps: bool = False):\n",
    "        self.caps = caps            # func is not passed in init; it is passed in __call__\n",
    "        self.num_calls = 0\n",
    "\n",
    "    def __call__(self, func):\n",
    "        def wrapper(*args, **kwargs):   # wrapper accepts args and kwargs for func\n",
    "            self.num_calls += 1\n",
    "            print(f\"Number of calls made: {self.num_calls}\")\n",
    "            if self.caps:\n",
    "                return func(*args, **kwargs).upper()\n",
    "            return func(*args, **kwargs).lower()\n",
    "        \n",
    "        return wrapper"
   ]
  },
  {
   "cell_type": "code",
   "execution_count": 61,
   "metadata": {},
   "outputs": [
    {
     "name": "stdout",
     "output_type": "stream",
     "text": [
      "Number of calls made: 1\n"
     ]
    },
    {
     "data": {
      "text/plain": [
       "'CHARLES'"
      ]
     },
     "execution_count": 61,
     "metadata": {},
     "output_type": "execute_result"
    }
   ],
   "source": [
    "@lower_args(caps=True)\n",
    "def single_user_firstname_caps():\n",
    "    return api_single_user()[\"results\"][0][\"name\"][\"first\"]\n",
    "\n",
    "single_user_firstname_caps()"
   ]
  },
  {
   "cell_type": "code",
   "execution_count": 62,
   "metadata": {},
   "outputs": [
    {
     "name": "stdout",
     "output_type": "stream",
     "text": [
      "Number of calls made: 2\n",
      "Number of calls made: 3\n"
     ]
    },
    {
     "data": {
      "text/plain": [
       "'KATIE'"
      ]
     },
     "execution_count": 62,
     "metadata": {},
     "output_type": "execute_result"
    }
   ],
   "source": [
    "single_user_firstname_caps()\n",
    "single_user_firstname_caps()"
   ]
  },
  {
   "cell_type": "markdown",
   "metadata": {},
   "source": [
    "We now have a decorator that can keep track of the number of times it has been called across our application. If we were to combine this with a `datetime` state, we could build a while loop to pause the function if we have hit too high of an API call rate.\n",
    "\n",
    "Of course there is plenty more to look at with respect to class decorators (and decorators in general), including asyncronous decorators"
   ]
  },
  {
   "cell_type": "markdown",
   "metadata": {},
   "source": [
    "## Summary"
   ]
  },
  {
   "cell_type": "markdown",
   "metadata": {},
   "source": [
    "For the longest time I avoided learning about the *inner* workings of decorators. And while I fully anticipate having to come back to these examples whenever I create a decorator, the easy to remember takeaways that will help me design and troubleshoot code are:\n",
    "\n",
    "1. Both function and class decorators require an additional inner function if the decorator is to take arguments\n",
    "2. Decorators return the inner function *object* and not the function callable.\n",
    "3. Class decorators have a required inner function called `__call__` and it is only called once (upon instantiation) - the fuction returned within `__call__` is what is triggered in each subsequent call."
   ]
  },
  {
   "cell_type": "markdown",
   "metadata": {},
   "source": [
    "## References"
   ]
  },
  {
   "cell_type": "markdown",
   "metadata": {},
   "source": [
    "Heavily relied upon [Denis Kovalev's post](https://aikikode.me/blog/python-decorators-manual/#asynchronous-decorators) to make sense of all of this. This blog was for my own learning to boil down the concepts I took away from their very insightful blog."
   ]
  }
 ],
 "metadata": {
  "kernelspec": {
   "display_name": "Python 3.9.13 ('aforev3')",
   "language": "python",
   "name": "python3"
  },
  "language_info": {
   "codemirror_mode": {
    "name": "ipython",
    "version": 3
   },
   "file_extension": ".py",
   "mimetype": "text/x-python",
   "name": "python",
   "nbconvert_exporter": "python",
   "pygments_lexer": "ipython3",
   "version": "3.9.13"
  },
  "orig_nbformat": 4,
  "vscode": {
   "interpreter": {
    "hash": "e8b18b2fa44f35257372dba2209b3a5ecba2cf99a453f1a831b3d44e30dfbd8e"
   }
  }
 },
 "nbformat": 4,
 "nbformat_minor": 2
}
