{
 "cells": [
  {
   "cell_type": "markdown",
   "id": "9f8e2a6f-2396-457e-904f-b9ffa99392eb",
   "metadata": {},
   "source": [
    "# fastai Sudoku\n",
    "\n",
    "> \"Use Sudoku to help learn fastai data preparation\"\n",
    "\n",
    "- toc: true\n",
    "- branch: master\n",
    "- badges: true\n",
    "- comments: true\n",
    "- author: Craig Stanton\n",
    "- hide: false\n",
    "- categories: [fastai]"
   ]
  },
  {
   "cell_type": "markdown",
   "id": "b20b66d4-67d3-4462-84de-d110ab005ff8",
   "metadata": {},
   "source": [
    "Use a Sudoku puzzle to learn more about the fastai `DataBlock`, `Datasets`, `DataLoaders` and `TfmdDL` objects.\n",
    "\n",
    "Why even bother with this? Jeremy's advice is to build models as quick as you can. However I find myself tripping at the first hurdle many times - the data preparation stage. It doesn't matter how many times I read about `DataBlock`s and `DataLoaders`, there is no substitute for actually using the libraries. So why not outline a game that requires you to build and solve the puzzle by using the same tools that you need to structure the data for a fastai `Learner`"
   ]
  },
  {
   "cell_type": "code",
   "execution_count": 1,
   "id": "0c3c9db2-9097-4d1f-87cc-104f155cd756",
   "metadata": {},
   "outputs": [
    {
     "name": "stdout",
     "output_type": "stream",
     "text": [
      "Requirement already satisfied: py-sudoku in /opt/conda/lib/python3.7/site-packages (1.0.2)\n"
     ]
    }
   ],
   "source": [
    "!pip install py-sudoku"
   ]
  },
  {
   "cell_type": "code",
   "execution_count": 2,
   "id": "8217a384-f869-4ff0-b8e5-d7aa12669fa3",
   "metadata": {},
   "outputs": [],
   "source": [
    "from fastai.text.all import *\n",
    "from fastai.vision.all import *\n",
    "from sudoku import Sudoku\n",
    "from functools import wraps"
   ]
  },
  {
   "cell_type": "markdown",
   "id": "658409d8-8ab0-4d5d-ae5b-417d56ae0279",
   "metadata": {},
   "source": [
    "## Challenge Overview"
   ]
  },
  {
   "cell_type": "markdown",
   "id": "e8c012a7-3edb-49d1-8e41-58257336477b",
   "metadata": {},
   "source": [
    "There are two parts to this challenge. The first is to create the Sudoku board via the `DataBlock` API. The second is to use the `DataLoaders` callbacks to actually solve the sudoku puzzle.\n",
    "\n",
    "\n",
    "Questions I hope to answer along the way:\n",
    "* What is the purpose of all of these classes?\n",
    "* What is a `DataBlock`? What are the blocks within a `DataBlock`?\n",
    "* What is the difference between a `Datasets` object and a `DataLoaders` object?\n",
    "* What is a `DataLoaders` object vs a `TfmdDL` object?\n",
    "* What callbacks are called in what order?\n",
    "* When would I use each type of callback?\n",
    "* What is `fa_collate` and which callback is it used in by default?\n"
   ]
  },
  {
   "cell_type": "markdown",
   "id": "f8678191-faf3-4347-8378-4b384005adac",
   "metadata": {},
   "source": [
    "## Setup"
   ]
  },
  {
   "cell_type": "code",
   "execution_count": null,
   "id": "635db243-c8e6-4260-82bd-3ff40ef3dbc9",
   "metadata": {},
   "outputs": [],
   "source": [
    "class FastSudoku:\n",
    "    \"\"\"\n",
    "    Learn how to use the fastai DataBlock, Datasets, and DataLoaders transforms and callbacks \n",
    "    by creating and solving a sudoku puzzle\n",
    "    \"\"\"\n",
    "    \n",
    "    def __init__(self, difficulty: float = 0.25, data_dir: Path = Path(\".\")):\n",
    "        self.puzzle = Sudoku(3).difficulty(difficulty)\n",
    "        self.solved = self.puzzle.solve().board\n",
    "        pd.DataFrame(self.puzzle.board).to_csv(data_dir/\"fastsudoku.csv\", index=False)\n",
    "        \n",
    "    def __repr__(self):\n",
    "        return f\"Puzzle created\"\n",
    "    \n",
    "    @staticmethod\n",
    "    def np2list(x): return None if np.isnan(x) else int(x)\n",
    "    \n",
    "    def check(self, dls):\n",
    "        \"\"\"\n",
    "        Unpack the dataloaders output, convert to int and str\n",
    "        \"\"\"\n",
    "        holder = []\n",
    "        for dl in dls:\n",
    "            holder+=dl\n",
    "        self.preds = [list(map(self.np2list,j)) for j in [i[0] for i in holder]]\n",
    "        print([self.solved[i] == x for i, x in enumerate(self.preds)])\n",
    "        if not any([self.solved[i] == x for i, x in enumerate(self.preds)]):\n",
    "            \n",
    "            print(\"Yes you are a fastai...and sudoku...whiz!\")\n",
    "        else:\n",
    "            print(\"Try again!\")\n",
    "            \n"
   ]
  },
  {
   "cell_type": "code",
   "execution_count": null,
   "id": "8377847d-741f-4f72-bf67-cc132574459e",
   "metadata": {},
   "outputs": [],
   "source": [
    "# difficuly can be any value 0-1 (easy-hard)\n",
    "fs = FastSudoku(difficulty=0.1)"
   ]
  },
  {
   "cell_type": "markdown",
   "id": "6b24dde5-d258-422c-99f3-9da468880dcf",
   "metadata": {},
   "source": [
    "### Challenge 1 - Datasets"
   ]
  },
  {
   "cell_type": "markdown",
   "id": "c8286e5d-1487-41ca-a3c9-08152b597f85",
   "metadata": {},
   "source": [
    "**Instructions**:\n",
    "\n",
    "* Grab the `fastsudoku.csv` puzzle and create a `DataBlock`\n",
    "* You should try and use *as many* of the functions below as DataBlock arguments - not necessarily all, but as many as you can/wish. The point of this is not to be the most efficient or practical way of creating a `DataBlock` but rather to understand what each function argument does.\n",
    "\n",
    "*Hints:*\n",
    "1. The `y` values are the row indices. They are not dependent variables as they normally are, but rather are a tool to help when processing batches (processed out of sequential order)\n",
    "\n",
    "*Tips*:\n",
    "1. Don't be afraid to comment out lines to see how the absence of functions changes the output\n",
    "2. Use print statements "
   ]
  },
  {
   "cell_type": "code",
   "execution_count": 15,
   "id": "b45df092-6049-4b0c-88b4-6700d691d267",
   "metadata": {},
   "outputs": [],
   "source": [
    "class DataBlockNotes:\n",
    "    \"\"\"\n",
    "    Class to hold and access all function comments to make a summary if desired\n",
    "    \"\"\"\n",
    "    pass\n",
    "\n",
    "@patch_to(DataBlockNotes)\n",
    "def get_items():\n",
    "    \"\"\"\n",
    "    TODO: Your summary of what this function does\n",
    "    \"\"\"\n",
    "    pass\n",
    "\n",
    "@patch_to(DataBlockNotes)\n",
    "def get_x():\n",
    "    \"\"\"\n",
    "    TODO: Your summary of what this function does\n",
    "    \"\"\"\n",
    "    pass\n",
    "\n",
    "@patch_to(DataBlockNotes)\n",
    "def get_y():\n",
    "    \"\"\"\n",
    "    TODO: Your summary of what this function does\n",
    "    \"\"\"\n",
    "    pass\n",
    "\n",
    "@patch_to(DataBlockNotes)\n",
    "def item_tfms():\n",
    "    \"\"\"\n",
    "    TODO: Your summary of what this function does\n",
    "    \"\"\"\n",
    "    pass\n",
    "\n",
    "@patch_to(DataBlockNotes)\n",
    "def batch_tfms():\n",
    "    \"\"\"\n",
    "    TODO: Your summary of what this function does\n",
    "    \"\"\"\n",
    "    pass\n",
    "\n",
    "# predefined\n",
    "def splitter():\n",
    "    # In this exercise, we don't need train and validation sets\n",
    "    # But never forget about them because theyre so important!\n",
    "    return [list(range(10)),]"
   ]
  },
  {
   "cell_type": "markdown",
   "id": "56993150-0ceb-45d0-a4ff-f5052e307c7e",
   "metadata": {},
   "source": [
    "Create the `DataBlock` and `Datasets`"
   ]
  },
  {
   "cell_type": "code",
   "execution_count": null,
   "id": "b934c400-7314-4c90-b633-e4cd14cca2a9",
   "metadata": {},
   "outputs": [],
   "source": [
    "dblock = DataBlock(\n",
    "    get_items=get_items,\n",
    "    get_x=get_x,\n",
    "    get_y=get_y,\n",
    "    # batch_tfms=batch_tfms,\n",
    "    # item_tfms=item_tfms\n",
    "    splitter=splitter\n",
    ")\n",
    "\n",
    "dsets = dblock.datasets(\"fastsudoku.csv\")"
   ]
  },
  {
   "cell_type": "code",
   "execution_count": null,
   "id": "fedc4bc1-d00f-4243-a257-e18de174137a",
   "metadata": {},
   "outputs": [],
   "source": [
    "# Check your output - does it look like this?\n",
    "fs.puzzle.show()\n",
    "\n",
    "dsets.items"
   ]
  },
  {
   "cell_type": "markdown",
   "id": "ac42e2d0-1ed2-42f1-95b1-5b7b82b93cee",
   "metadata": {},
   "source": [
    "### Challenge 2 - DataLoader Sudoku"
   ]
  },
  {
   "cell_type": "markdown",
   "id": "80b56791-b228-4ecb-bb37-b694a1f23cdf",
   "metadata": {},
   "source": [
    "**Instructions**:\n",
    "\n",
    "* Use the `DataLoaders` callbacks to modify the `Datasets` you just created to solve the Sudoku board\n",
    "* Test your DataLoaders object against the puzzle, you can use the `fs.check(dls)` method\n",
    "* You should try and use *as many* of the callback functions below - not necessarily all, but as many as you can/wish. The point of this is not to be the most efficient or practical way of creating a `DataLoaders` but rather to understand what each function argument does.\n",
    "\n",
    "*Tips*:\n",
    "1. Don't be afraid to comment out lines to see how the absence of functions changes the output\n",
    "2. Use print statements \n",
    "\n",
    "The Sudoku puzzle is below:"
   ]
  },
  {
   "cell_type": "code",
   "execution_count": null,
   "id": "e7c29903-3b5e-4355-af3c-b908b7966b4d",
   "metadata": {},
   "outputs": [],
   "source": [
    "fs.puzzle.show()"
   ]
  },
  {
   "cell_type": "markdown",
   "id": "46196a2f-0ae6-417f-a39f-71876ae832d9",
   "metadata": {},
   "source": [
    "Functions to use"
   ]
  },
  {
   "cell_type": "code",
   "execution_count": 3,
   "id": "27f4abfd-df04-41b7-95d6-1673d49956d0",
   "metadata": {},
   "outputs": [],
   "source": [
    "class TfmdDLNotes:\n",
    "    \"\"\"\n",
    "    Class to hold and access all function comments to make a summary if desired\n",
    "    \"\"\"\n",
    "    pass\n",
    "\n",
    "@patch_to(TfmdDLNotes)\n",
    "def before_iter():\n",
    "    \"\"\"\n",
    "    TODO: Your summary of what this function does\n",
    "    \"\"\"\n",
    "    return a\n",
    "\n",
    "@patch_to(TfmdDLNotes)\n",
    "def after_item(a):\n",
    "    \"\"\"\n",
    "    TODO: Your summary of what this function does\n",
    "    \"\"\"\n",
    "    return a\n",
    "\n",
    "@patch_to(TfmdDLNotes)\n",
    "def before_batch(a):\n",
    "    \"\"\"\n",
    "    TODO: Your summary of what this function does\n",
    "    \"\"\"\n",
    "    return a\n",
    "\n",
    "@patch_to(TfmdDLNotes)\n",
    "def after_iter():\n",
    "    \"\"\"\n",
    "    TODO: Your summary of what this function does\n",
    "    \"\"\"\n",
    "    pass\n",
    "\n",
    "@patch_to(TfmdDLNotes)\n",
    "def create_batches(a):\n",
    "    \"\"\"\n",
    "    TODO: Your summary of what this function does\n",
    "    \"\"\"\n",
    "    return a\n",
    "\n",
    "@patch_to(TfmdDLNotes)\n",
    "def create_item(a):\n",
    "    \"\"\"\n",
    "    TODO: Your summary of what this function does\n",
    "    \"\"\"\n",
    "    return a\n",
    "\n",
    "@patch_to(TfmdDLNotes)\n",
    "def create_batch(a):\n",
    "    \"\"\"\n",
    "    TODO: Your summary of what this function does\n",
    "    \"\"\"\n",
    "    return a\n",
    "\n",
    "@patch_to(TfmdDLNotes)\n",
    "def after_batch(a):\n",
    "    \"\"\"\n",
    "    TODO: Your summary of what this function does\n",
    "    \"\"\"\n",
    "    return a"
   ]
  },
  {
   "cell_type": "code",
   "execution_count": null,
   "id": "e4670a14-c0ef-43b4-878a-ad749c337ef4",
   "metadata": {},
   "outputs": [],
   "source": [
    "dls = TfmdDL(\n",
    "    dsets,\n",
    "    bs=2,   # keep as 2 for this exercise; can be any number below 10\n",
    "    before_iter=before_iter,\n",
    "    after_item=after_item,\n",
    "    before_batch=before_batch,\n",
    "    after_iter=after_iter,\n",
    "    create_item=create_item,\n",
    "    create_batch=create_batch,\n",
    "    after_batch=after_batch,\n",
    "    create_batches=create_batches\n",
    ")"
   ]
  },
  {
   "cell_type": "code",
   "execution_count": null,
   "id": "4cc408f3-483b-4f38-ab36-824e68a9e804",
   "metadata": {},
   "outputs": [],
   "source": [
    "fs.check(dls)"
   ]
  },
  {
   "cell_type": "markdown",
   "id": "8308d1c1-e5c8-4ece-9e39-27df70b2f992",
   "metadata": {},
   "source": [
    "## Your Notes"
   ]
  },
  {
   "cell_type": "code",
   "execution_count": 16,
   "id": "f4999f9c-f440-472c-a141-eda42900db2c",
   "metadata": {},
   "outputs": [
    {
     "name": "stdout",
     "output_type": "stream",
     "text": [
      "{'get_items': 'TODO: Your summary of what this function does'}\n",
      "{'get_x': 'TODO: Your summary of what this function does'}\n",
      "{'get_y': 'TODO: Your summary of what this function does'}\n",
      "{'item_tfms': 'TODO: Your summary of what this function does'}\n",
      "{'batch_tfms': 'TODO: Your summary of what this function does'}\n"
     ]
    }
   ],
   "source": [
    "for k,v in DataBlockNotes.__dict__.items():\n",
    "    if \"__\" not in k:\n",
    "        print({k: rm_useless_spaces(v.__doc__).strip()})"
   ]
  },
  {
   "cell_type": "code",
   "execution_count": 13,
   "id": "fd30e3de-132a-4596-900d-6d66c1b8837e",
   "metadata": {},
   "outputs": [
    {
     "name": "stdout",
     "output_type": "stream",
     "text": [
      "{'before_iter': 'TODO: Your summary of what this function does'}\n",
      "{'after_item': 'TODO: Your summary of what this function does'}\n",
      "{'before_batch': 'TODO: Your summary of what this function does'}\n",
      "{'after_iter': 'TODO: Your summary of what this function does'}\n",
      "{'create_batches': 'TODO: Your summary of what this function does'}\n",
      "{'create_item': 'TODO: Your summary of what this function does'}\n",
      "{'create_batch': 'TODO: Your summary of what this function does'}\n",
      "{'after_batch': 'TODO: Your summary of what this function does'}\n"
     ]
    }
   ],
   "source": [
    "for k,v in TfmdDLNotes.__dict__.items():\n",
    "    if \"__\" not in k:\n",
    "        print({k: rm_useless_spaces(v.__doc__).strip()})"
   ]
  }
 ],
 "metadata": {
  "kernelspec": {
   "display_name": "Python 3 (ipykernel)",
   "language": "python",
   "name": "python3"
  },
  "language_info": {
   "codemirror_mode": {
    "name": "ipython",
    "version": 3
   },
   "file_extension": ".py",
   "mimetype": "text/x-python",
   "name": "python",
   "nbconvert_exporter": "python",
   "pygments_lexer": "ipython3",
   "version": "3.7.11"
  }
 },
 "nbformat": 4,
 "nbformat_minor": 5
}
