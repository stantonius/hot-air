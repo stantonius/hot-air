{
  "cells": [
    {
      "cell_type": "markdown",
      "id": "9f8e2a6f-2396-457e-904f-b9ffa99392eb",
      "metadata": {
        "id": "9f8e2a6f-2396-457e-904f-b9ffa99392eb"
      },
      "source": [
        "# fastai Sudoku\n",
        "\n",
        "> \"Improve our fastai data preparation understanding by playing Sudoku\"\n",
        "\n",
        "- toc: true\n",
        "- branch: master\n",
        "- badges: true\n",
        "- comments: true\n",
        "- author: Craig Stanton\n",
        "- hide: false\n",
        "- categories: [fastai]"
      ]
    },
    {
      "cell_type": "markdown",
      "id": "e71f6714-e42c-4fea-a49d-9b26e74edf51",
      "metadata": {
        "id": "e71f6714-e42c-4fea-a49d-9b26e74edf51"
      },
      "source": [
        "Use a Sudoku puzzle to learn more about the fastai `DataBlock`, `Datasets`, `DataLoaders` and `TfmdDL` objects.\n",
        "\n",
        "Why even bother with this? Jeremy's advice is to build models as quick as you can. However I often find myself tripping at the first hurdle many times - **the data preparation stage**. It doesn't matter how many times I read about `DataBlock`, `TfmdDL`, and `DataLoaders`, there is no substitute for actually using the libraries. So why not outline a game that requires you to build and solve the puzzle by using the same tools that you need to structure the data for a fastai `Learner` (which is where the actual training magic happens).\n",
        "\n",
        "Additionally, I really struggle at times to read the fastai code - it contains so many Python tricks that I am not always familiar with. Therefore this type of exercise forces me to interrogate the code in order to write working DataBlock functions.\n",
        "\n",
        "## Why Sudoku?\n",
        "\n",
        "Besides the fact that most people know the game, I needed something that was 2-dimensional because that is how our raw ML data is usually represented (even if we are working with images, its helpful to *think* of the input data in a tabular structure, where each training item is represented as a row, and one column is the independent variable and while another is the dependent variable)."
      ]
    },
    {
      "cell_type": "markdown",
      "id": "6tHpUTm0qjCz",
      "metadata": {
        "id": "6tHpUTm0qjCz"
      },
      "source": [
        "### Setup"
      ]
    },
    {
      "cell_type": "code",
      "execution_count": null,
      "id": "d6ce8821-3c2d-4655-94e2-e112032b7ec1",
      "metadata": {
        "colab": {
          "base_uri": "https://localhost:8080/"
        },
        "id": "d6ce8821-3c2d-4655-94e2-e112032b7ec1",
        "outputId": "75eb0038-3a5d-4cc4-85e4-fb4e5eaad8f8"
      },
      "outputs": [],
      "source": [
        "#@title\n",
        "!pip install py-sudoku==1.0.3\n",
        "from fastai.text.all import *\n",
        "from fastai.vision.all import *\n",
        "from sudoku import Sudoku\n",
        "from functools import wraps\n",
        "from typing import Union, Iterable\n",
        "from collections.abc import Collection\n",
        "import ipywidgets as widgets\n",
        "import requests, pprint\n",
        "from IPython.display import HTML\n",
        "\n",
        "class FastSudoku:\n",
        "    \"\"\"\n",
        "    Learn how to use the fastai DataBlock, TfmdDL, Datasets, and DataLoaders transforms and callbacks by creating and solving a sudoku puzzle\n",
        "    \"\"\"\n",
        "    \n",
        "    def __init__(self, difficulty: float = 0.25, seed: int = 527, data_dir: Path = Path(\".\")):\n",
        "        self.puzzle = Sudoku(3, seed=seed).difficulty(difficulty)\n",
        "        self.solved = self.puzzle.solve().board\n",
        "        pd.DataFrame(self.puzzle.board).to_csv(data_dir/\"raw_data.csv\", index=False)\n",
        "        \n",
        "    def __repr__(self):\n",
        "        return f\"Puzzle created\"\n",
        "    \n",
        "    @staticmethod\n",
        "    def np2list(x): return None if np.isnan(x) else int(x)\n",
        "    \n",
        "    def check(self, dls):\n",
        "        \"\"\"\n",
        "        Unpack the dataloaders output, convert to int and str\n",
        "        \"\"\"\n",
        "        holder = []\n",
        "        for dl in dls:\n",
        "            holder+=dl\n",
        "        self.preds = [list(map(self.np2list,j)) for j in [i[0] for i in holder]]\n",
        "        if all(j for j in [self.solved[i] == x for i, x in enumerate(self.preds)]):\n",
        "            \n",
        "            print(\"\\n\\nYes you are a fastai...and sudoku...whiz!\\n\\n\")\n",
        "        else:\n",
        "            print(\"\\n\\nNot quite. Check out your puzzle below and try again!\\n\\n\")\n",
        "            # print the current board with any guesses\n",
        "            Sudoku(3, 3, board=self.preds).show()\n",
        "\n",
        "fast_sudoku_answers = requests.get(\"https://gist.githubusercontent.com/stantonius/ca95d88dcd0085b12a302f64b326caf8/raw/68b676048138fc8096157176b411b677a98a34ec/fast_sudoku_answers.json\")"
      ]
    },
    {
      "cell_type": "markdown",
      "id": "YkKA641lqxQl",
      "metadata": {
        "id": "YkKA641lqxQl"
      },
      "source": [
        "### Getting Started"
      ]
    },
    {
      "cell_type": "markdown",
      "id": "d4iOyoAks5j1",
      "metadata": {
        "id": "d4iOyoAks5j1"
      },
      "source": [
        "The first thing to do is to set the puzzle **difficulty** (a float between 0 and 1) and the **seed** (any integer). Note that the seed ensures the reproducability of the same Sudoku board - therefore, in order to practice a second time you will want to change this value)"
      ]
    },
    {
      "cell_type": "code",
      "execution_count": null,
      "id": "8377847d-741f-4f72-bf67-cc132574459e",
      "metadata": {
        "id": "8377847d-741f-4f72-bf67-cc132574459e"
      },
      "outputs": [],
      "source": [
        "fs = FastSudoku(difficulty = 0.2, seed = 92)"
      ]
    },
    {
      "cell_type": "code",
      "execution_count": null,
      "id": "13be3fe6-8486-4529-8223-a2ec4048a1c6",
      "metadata": {
        "colab": {
          "base_uri": "https://localhost:8080/"
        },
        "id": "13be3fe6-8486-4529-8223-a2ec4048a1c6",
        "outputId": "c3de070c-5e75-4d4e-fa18-bfad2bb0202a"
      },
      "outputs": [],
      "source": [
        "fs.puzzle.show()"
      ]
    },
    {
      "cell_type": "markdown",
      "id": "6b24dde5-d258-422c-99f3-9da468880dcf",
      "metadata": {
        "id": "6b24dde5-d258-422c-99f3-9da468880dcf"
      },
      "source": [
        "### Challenge 1 - Create a `Datasets` object using the `DataBlock` API"
      ]
    },
    {
      "cell_type": "markdown",
      "id": "c8286e5d-1487-41ca-a3c9-08152b597f85",
      "metadata": {
        "id": "c8286e5d-1487-41ca-a3c9-08152b597f85"
      },
      "source": [
        "In the current directory we have a generated file `raw_data.csv` which contains the unsolved Sudoku puzzle data. \n",
        "\n",
        "**Objective**: Using the `DataBlock` API, pass as many function arguments (ie. `get_items`, `batch_tfms`, `get_y`, etc.) as possible so that you create a `Datasets` object that contains the original Sudoku values *along with an additional `y-value` column*.  \n",
        "\n",
        "**Instructions**:\n",
        "\n",
        "* Grab the `raw_data.csv` puzzle and create a `DataBlock`\n",
        "* You should try and use *as many* of the functions below as DataBlock arguments - not necessarily all, but as many as you can/wish. The point of this is not to be the most efficient or practical way of creating a `DataBlock` but rather to *understand what each argument function argument does*.\n",
        "\n",
        "*Tips*:\n",
        "1. Don't be afraid to comment out lines to see how the absence of functions changes the output\n",
        "2. Use print statements to track the output of each function\n",
        "3. Read the fastai code for the functions and classes you are unfamiliar with."
      ]
    },
    {
      "cell_type": "markdown",
      "id": "gui14zM30_M0",
      "metadata": {
        "id": "gui14zM30_M0"
      },
      "source": [
        "**Question**: the objective states to create a new `y-value` column. What should this column contain? Why? \n",
        "\n",
        "*Click on the `Show answer` buttons below to reveal the answers*"
      ]
    },
    {
      "cell_type": "code",
      "execution_count": null,
      "id": "JbiTaGDk9WMs",
      "metadata": {
        "colab": {
          "base_uri": "https://localhost:8080/",
          "height": 49,
          "referenced_widgets": [
            "6aeac77de1bd4d02939098b6e194bec9",
            "6f17c3e457924474977584aaddf569d4",
            "ef9974ace40c46dcae2a9c554bd1dd83",
            "c5008e137dc9421ca6f456776a2c7b7c",
            "c1f61bc9d46f49bd8887ba4c3e61aec8"
          ]
        },
        "id": "JbiTaGDk9WMs",
        "outputId": "8a8cbbc1-3159-4fdd-d389-8c5a7e9cd167"
      },
      "outputs": [],
      "source": [
        "#@title\n",
        "button = widgets.Button(description=\"Show answer\")\n",
        "output = widgets.Output()\n",
        "\n",
        "def show_answer(b):\n",
        "    with output:\n",
        "        print(fast_sudoku_answers.json()[\"y_col\"])\n",
        "\n",
        "button.on_click(callback=show_answer)\n",
        "display(button, output)"
      ]
    },
    {
      "cell_type": "code",
      "execution_count": null,
      "id": "DSUcq6l2994P",
      "metadata": {
        "colab": {
          "base_uri": "https://localhost:8080/",
          "height": 49,
          "referenced_widgets": [
            "58817eab9a9747a19baf7bcd26b899f3",
            "03cfab5388dd4e109b38168da4890d9e",
            "89274e2a22ec46778dd1be77feed0edd",
            "d2afb5eb06194cf3a112459277be5de8",
            "3a4955ad67d3452198226d8ef1d1df56"
          ]
        },
        "id": "DSUcq6l2994P",
        "outputId": "59e741f4-17fb-403a-fda8-015cc055ee48"
      },
      "outputs": [],
      "source": [
        "#@title\n",
        "button = widgets.Button(description=\"Show answer\")\n",
        "output = widgets.Output()\n",
        "\n",
        "def show_answer(b):\n",
        "    with output:\n",
        "        print(fast_sudoku_answers.json()[\"why_y\"])\n",
        "\n",
        "button.on_click(callback=show_answer)\n",
        "display(button, output)"
      ]
    },
    {
      "cell_type": "markdown",
      "id": "-iRB4EL_D9Al",
      "metadata": {
        "id": "-iRB4EL_D9Al"
      },
      "source": [
        "#### Define our `DataBlock` functional arguments"
      ]
    },
    {
      "cell_type": "code",
      "execution_count": null,
      "id": "bf8a154e-d0f7-4740-a166-cc09398b0af5",
      "metadata": {
        "id": "bf8a154e-d0f7-4740-a166-cc09398b0af5"
      },
      "outputs": [],
      "source": [
        "def get_items():\n",
        "    pass\n",
        "\n",
        "def get_x():\n",
        "    pass\n",
        "\n",
        "def get_y():\n",
        "    pass\n",
        "    \n",
        "\n",
        "#################\n",
        "# Predefined\n",
        "#################\n",
        "\n",
        "def splitter(a):\n",
        "    # In this exercise, we don't need train and validation sets\n",
        "    # Therefore this is effectively a dummy function in this specific circumstance\n",
        "    # But never forget about Splitter because it is such an important concept!\n",
        "    return [list(range(9)),]"
      ]
    },
    {
      "cell_type": "code",
      "execution_count": null,
      "id": "af7895e6-e97e-4216-aecd-239d0468bcdc",
      "metadata": {
        "id": "af7895e6-e97e-4216-aecd-239d0468bcdc"
      },
      "outputs": [],
      "source": [
        "dblock = DataBlock(\n",
        "    get_items=get_items,\n",
        "    get_x=get_x,\n",
        "    get_y=get_y,\n",
        "    splitter=splitter\n",
        ")"
      ]
    },
    {
      "cell_type": "markdown",
      "id": "OPhEafvUWy59",
      "metadata": {
        "id": "OPhEafvUWy59"
      },
      "source": [
        "**Question**: why did we not need to provide any `blocks` arguments?"
      ]
    },
    {
      "cell_type": "code",
      "execution_count": null,
      "id": "mpE9sMFwXDBN",
      "metadata": {
        "colab": {
          "base_uri": "https://localhost:8080/",
          "height": 49,
          "referenced_widgets": [
            "45e4cc3475214097a50e4ab7fa340bd1",
            "a29553dcfe9c4df0acb563cbcec20bba",
            "6a36d27f14b64d02a2292aa8cdee0eb8",
            "196db09825894b408fac5b73c54a14a4",
            "fa43807257dc48b2a04152595486bf8b"
          ]
        },
        "id": "mpE9sMFwXDBN",
        "outputId": "e2e8c05b-8945-4abb-99ff-8fc118f86d2e"
      },
      "outputs": [],
      "source": [
        "#@title\n",
        "button = widgets.Button(description=\"Show answer\")\n",
        "output = widgets.Output()\n",
        "\n",
        "def show_answer(b):\n",
        "    with output:\n",
        "        print(fast_sudoku_answers.json()[\"no_blocks\"])\n",
        "\n",
        "button.on_click(callback=show_answer)\n",
        "display(button, output)"
      ]
    },
    {
      "cell_type": "markdown",
      "id": "DuTzsfr7XaX5",
      "metadata": {
        "id": "DuTzsfr7XaX5"
      },
      "source": [
        "**Question**: why did we not supply any `batch_tfms` or `item_tfms`?"
      ]
    },
    {
      "cell_type": "code",
      "execution_count": null,
      "id": "xSSJ2PdpXmWD",
      "metadata": {
        "colab": {
          "base_uri": "https://localhost:8080/",
          "height": 49,
          "referenced_widgets": [
            "16aacdb3ed5b4bab940233e476aa5250",
            "f383397201be474bb58b4fe51bb99b5d",
            "db023e765f984dbcbba0c6256c04e4df",
            "586f77a44a1d4500a351d899e74e2540",
            "894643420bef427082b6afd1b659bbc3"
          ]
        },
        "id": "xSSJ2PdpXmWD",
        "outputId": "64360378-51dd-4a2d-ac85-56d1fc214912"
      },
      "outputs": [],
      "source": [
        "#@title\n",
        "button = widgets.Button(description=\"Show answer\")\n",
        "output = widgets.Output()\n",
        "\n",
        "def show_answer(b):\n",
        "    with output:\n",
        "        print(fast_sudoku_answers.json()[\"no_tfms\"])\n",
        "\n",
        "button.on_click(callback=show_answer)\n",
        "display(button, output)"
      ]
    },
    {
      "cell_type": "markdown",
      "id": "137d61a5-363f-4330-9938-f7d04fa59331",
      "metadata": {
        "id": "137d61a5-363f-4330-9938-f7d04fa59331"
      },
      "source": [
        "#### Check our Dataset"
      ]
    },
    {
      "cell_type": "code",
      "execution_count": null,
      "id": "a19e467b-208a-4071-a44f-9ce9c0493156",
      "metadata": {
        "id": "a19e467b-208a-4071-a44f-9ce9c0493156"
      },
      "outputs": [],
      "source": [
        "dsets = dblock.datasets(\"raw_data.csv\");"
      ]
    },
    {
      "cell_type": "code",
      "execution_count": null,
      "id": "16a842a6-7418-4a94-a6d2-9a2b43aefd1a",
      "metadata": {
        "id": "16a842a6-7418-4a94-a6d2-9a2b43aefd1a"
      },
      "outputs": [],
      "source": [
        "fs.puzzle.show()\n",
        "\n",
        "dsets.items"
      ]
    },
    {
      "cell_type": "markdown",
      "id": "ac42e2d0-1ed2-42f1-95b1-5b7b82b93cee",
      "metadata": {
        "id": "ac42e2d0-1ed2-42f1-95b1-5b7b82b93cee"
      },
      "source": [
        "### Challenge 2 - Use `TfmdDL` to solve the Sudoku puzzle"
      ]
    },
    {
      "cell_type": "markdown",
      "id": "WJkEIeeBLpr9",
      "metadata": {
        "id": "WJkEIeeBLpr9"
      },
      "source": [
        "> Why are we using `TfmdDL` here? If you look into the fastai code, any time you create a `DataLoaders`, the `TfdmDL` class is ultimately called."
      ]
    },
    {
      "cell_type": "markdown",
      "id": "80b56791-b228-4ecb-bb37-b694a1f23cdf",
      "metadata": {
        "id": "80b56791-b228-4ecb-bb37-b694a1f23cdf"
      },
      "source": [
        "**Objective:** Use the `TfmdDL` callbacks to modify the `Datasets` you just created to solve the Sudoku board\n",
        "\n",
        "**Instructions**:\n",
        "* Test your DataLoaders object against the puzzle, you can use the `fs.check(dls)` method\n",
        "* You should try and use *as many* of the callback functions below - not necessarily all, but as many as you can/wish. The point of this is not to be the most efficient or practical way of creating a `DataLoaders` but rather to understand what each function argument does.\n",
        "\n",
        "*Tips*:\n",
        "1. Use **helper function(s)** that are called within other functions to insert your Sudoku responses into the row\n",
        "2. Don't be afraid to comment out lines to see how the absence of functions changes the output\n",
        "3. Use print statements to track the output of each function\n",
        "4. Read the fastai code for the functions and classes you are unfamiliar with."
      ]
    },
    {
      "cell_type": "code",
      "execution_count": null,
      "id": "e7c29903-3b5e-4355-af3c-b908b7966b4d",
      "metadata": {
        "colab": {
          "base_uri": "https://localhost:8080/"
        },
        "id": "e7c29903-3b5e-4355-af3c-b908b7966b4d",
        "outputId": "ee7682b6-6905-4cfc-9070-b751bec48cc0"
      },
      "outputs": [],
      "source": [
        "# show the Sudoku puzzle again\n",
        "fs.puzzle.show()"
      ]
    },
    {
      "cell_type": "markdown",
      "id": "qX1Yu0pxi8yx",
      "metadata": {
        "id": "qX1Yu0pxi8yx"
      },
      "source": []
    },
    {
      "cell_type": "code",
      "execution_count": null,
      "id": "27f4abfd-df04-41b7-95d6-1673d49956d0",
      "metadata": {
        "id": "27f4abfd-df04-41b7-95d6-1673d49956d0"
      },
      "outputs": [],
      "source": [
        "def before_iter():\n",
        "    pass\n",
        "\n",
        "def after_item(a):\n",
        "    pass\n",
        "\n",
        "def before_batch(a):\n",
        "    pass\n",
        "\n",
        "def after_iter(cls_name):\n",
        "    pass\n",
        "\n",
        "def create_batches(a):\n",
        "    pass\n",
        "\n",
        "def create_item(a):\n",
        "    pass\n",
        "\n",
        "def custom_collate(a):\n",
        "    pass\n",
        "\n",
        "def create_batch(a):\n",
        "    pass\n",
        "\n",
        "def after_batch(a):\n",
        "    pass"
      ]
    },
    {
      "cell_type": "code",
      "execution_count": null,
      "id": "e4670a14-c0ef-43b4-878a-ad749c337ef4",
      "metadata": {
        "id": "e4670a14-c0ef-43b4-878a-ad749c337ef4"
      },
      "outputs": [],
      "source": [
        "dls = TfmdDL(\n",
        "    dsets,\n",
        "    bs=2,   # change this value to see its effects\n",
        "    before_iter=before_iter,\n",
        "    after_item=after_item,\n",
        "    before_batch=before_batch,\n",
        "    after_iter=after_iter,\n",
        "    create_item=create_item,\n",
        "    create_batch=create_batch,\n",
        "    after_batch=after_batch,\n",
        "    create_batches=create_batches,\n",
        "    shuffle=False # change to see the impact\n",
        ")\n"
      ]
    },
    {
      "cell_type": "markdown",
      "id": "DaSDvF6pg65g",
      "metadata": {
        "id": "DaSDvF6pg65g"
      },
      "source": [
        "Use the `fs.check()` function to check your answers."
      ]
    },
    {
      "cell_type": "code",
      "execution_count": null,
      "id": "621e8f2a-d4a2-43aa-9f82-04bc57ca9cfa",
      "metadata": {
        "id": "621e8f2a-d4a2-43aa-9f82-04bc57ca9cfa"
      },
      "outputs": [],
      "source": [
        "fs.check(dls)"
      ]
    },
    {
      "cell_type": "markdown",
      "id": "f87078c9-c42e-4020-9670-b2e99b0cbdd2",
      "metadata": {
        "id": "f87078c9-c42e-4020-9670-b2e99b0cbdd2"
      },
      "source": [
        "# Notes\n",
        "\n",
        "Add your notes here"
      ]
    }
  ],
  "metadata": {
    "colab": {
      "provenance": []
    },
    "kernelspec": {
      "display_name": "Python 3.10.4 ('test')",
      "language": "python",
      "name": "python3"
    },
    "language_info": {
      "codemirror_mode": {
        "name": "ipython",
        "version": 3
      },
      "file_extension": ".py",
      "mimetype": "text/x-python",
      "name": "python",
      "nbconvert_exporter": "python",
      "pygments_lexer": "ipython3",
      "version": "3.10.6"
    },
    "vscode": {
      "interpreter": {
        "hash": "0dd424858ccc172b7010629393bf302fa88edfb85e4e1d8e1aef28b39c1e001d"
      }
    },
    "widgets": {
      "application/vnd.jupyter.widget-state+json": {
        "03cfab5388dd4e109b38168da4890d9e": {
          "model_module": "@jupyter-widgets/base",
          "model_module_version": "1.2.0",
          "model_name": "LayoutModel",
          "state": {
            "_model_module": "@jupyter-widgets/base",
            "_model_module_version": "1.2.0",
            "_model_name": "LayoutModel",
            "_view_count": null,
            "_view_module": "@jupyter-widgets/base",
            "_view_module_version": "1.2.0",
            "_view_name": "LayoutView",
            "align_content": null,
            "align_items": null,
            "align_self": null,
            "border": null,
            "bottom": null,
            "display": null,
            "flex": null,
            "flex_flow": null,
            "grid_area": null,
            "grid_auto_columns": null,
            "grid_auto_flow": null,
            "grid_auto_rows": null,
            "grid_column": null,
            "grid_gap": null,
            "grid_row": null,
            "grid_template_areas": null,
            "grid_template_columns": null,
            "grid_template_rows": null,
            "height": null,
            "justify_content": null,
            "justify_items": null,
            "left": null,
            "margin": null,
            "max_height": null,
            "max_width": null,
            "min_height": null,
            "min_width": null,
            "object_fit": null,
            "object_position": null,
            "order": null,
            "overflow": null,
            "overflow_x": null,
            "overflow_y": null,
            "padding": null,
            "right": null,
            "top": null,
            "visibility": null,
            "width": null
          }
        },
        "16aacdb3ed5b4bab940233e476aa5250": {
          "model_module": "@jupyter-widgets/controls",
          "model_module_version": "1.5.0",
          "model_name": "ButtonModel",
          "state": {
            "_dom_classes": [],
            "_model_module": "@jupyter-widgets/controls",
            "_model_module_version": "1.5.0",
            "_model_name": "ButtonModel",
            "_view_count": null,
            "_view_module": "@jupyter-widgets/controls",
            "_view_module_version": "1.5.0",
            "_view_name": "ButtonView",
            "button_style": "",
            "description": "Show answer",
            "disabled": false,
            "icon": "",
            "layout": "IPY_MODEL_f383397201be474bb58b4fe51bb99b5d",
            "style": "IPY_MODEL_db023e765f984dbcbba0c6256c04e4df",
            "tooltip": ""
          }
        },
        "196db09825894b408fac5b73c54a14a4": {
          "model_module": "@jupyter-widgets/output",
          "model_module_version": "1.0.0",
          "model_name": "OutputModel",
          "state": {
            "_dom_classes": [],
            "_model_module": "@jupyter-widgets/output",
            "_model_module_version": "1.0.0",
            "_model_name": "OutputModel",
            "_view_count": null,
            "_view_module": "@jupyter-widgets/output",
            "_view_module_version": "1.0.0",
            "_view_name": "OutputView",
            "layout": "IPY_MODEL_fa43807257dc48b2a04152595486bf8b",
            "msg_id": "",
            "outputs": []
          }
        },
        "3a4955ad67d3452198226d8ef1d1df56": {
          "model_module": "@jupyter-widgets/base",
          "model_module_version": "1.2.0",
          "model_name": "LayoutModel",
          "state": {
            "_model_module": "@jupyter-widgets/base",
            "_model_module_version": "1.2.0",
            "_model_name": "LayoutModel",
            "_view_count": null,
            "_view_module": "@jupyter-widgets/base",
            "_view_module_version": "1.2.0",
            "_view_name": "LayoutView",
            "align_content": null,
            "align_items": null,
            "align_self": null,
            "border": null,
            "bottom": null,
            "display": null,
            "flex": null,
            "flex_flow": null,
            "grid_area": null,
            "grid_auto_columns": null,
            "grid_auto_flow": null,
            "grid_auto_rows": null,
            "grid_column": null,
            "grid_gap": null,
            "grid_row": null,
            "grid_template_areas": null,
            "grid_template_columns": null,
            "grid_template_rows": null,
            "height": null,
            "justify_content": null,
            "justify_items": null,
            "left": null,
            "margin": null,
            "max_height": null,
            "max_width": null,
            "min_height": null,
            "min_width": null,
            "object_fit": null,
            "object_position": null,
            "order": null,
            "overflow": null,
            "overflow_x": null,
            "overflow_y": null,
            "padding": null,
            "right": null,
            "top": null,
            "visibility": null,
            "width": null
          }
        },
        "45e4cc3475214097a50e4ab7fa340bd1": {
          "model_module": "@jupyter-widgets/controls",
          "model_module_version": "1.5.0",
          "model_name": "ButtonModel",
          "state": {
            "_dom_classes": [],
            "_model_module": "@jupyter-widgets/controls",
            "_model_module_version": "1.5.0",
            "_model_name": "ButtonModel",
            "_view_count": null,
            "_view_module": "@jupyter-widgets/controls",
            "_view_module_version": "1.5.0",
            "_view_name": "ButtonView",
            "button_style": "",
            "description": "Show answer",
            "disabled": false,
            "icon": "",
            "layout": "IPY_MODEL_a29553dcfe9c4df0acb563cbcec20bba",
            "style": "IPY_MODEL_6a36d27f14b64d02a2292aa8cdee0eb8",
            "tooltip": ""
          }
        },
        "586f77a44a1d4500a351d899e74e2540": {
          "model_module": "@jupyter-widgets/output",
          "model_module_version": "1.0.0",
          "model_name": "OutputModel",
          "state": {
            "_dom_classes": [],
            "_model_module": "@jupyter-widgets/output",
            "_model_module_version": "1.0.0",
            "_model_name": "OutputModel",
            "_view_count": null,
            "_view_module": "@jupyter-widgets/output",
            "_view_module_version": "1.0.0",
            "_view_name": "OutputView",
            "layout": "IPY_MODEL_894643420bef427082b6afd1b659bbc3",
            "msg_id": "",
            "outputs": []
          }
        },
        "58817eab9a9747a19baf7bcd26b899f3": {
          "model_module": "@jupyter-widgets/controls",
          "model_module_version": "1.5.0",
          "model_name": "ButtonModel",
          "state": {
            "_dom_classes": [],
            "_model_module": "@jupyter-widgets/controls",
            "_model_module_version": "1.5.0",
            "_model_name": "ButtonModel",
            "_view_count": null,
            "_view_module": "@jupyter-widgets/controls",
            "_view_module_version": "1.5.0",
            "_view_name": "ButtonView",
            "button_style": "",
            "description": "Show answer",
            "disabled": false,
            "icon": "",
            "layout": "IPY_MODEL_03cfab5388dd4e109b38168da4890d9e",
            "style": "IPY_MODEL_89274e2a22ec46778dd1be77feed0edd",
            "tooltip": ""
          }
        },
        "6a36d27f14b64d02a2292aa8cdee0eb8": {
          "model_module": "@jupyter-widgets/controls",
          "model_module_version": "1.5.0",
          "model_name": "ButtonStyleModel",
          "state": {
            "_model_module": "@jupyter-widgets/controls",
            "_model_module_version": "1.5.0",
            "_model_name": "ButtonStyleModel",
            "_view_count": null,
            "_view_module": "@jupyter-widgets/base",
            "_view_module_version": "1.2.0",
            "_view_name": "StyleView",
            "button_color": null,
            "font_weight": ""
          }
        },
        "6aeac77de1bd4d02939098b6e194bec9": {
          "model_module": "@jupyter-widgets/controls",
          "model_module_version": "1.5.0",
          "model_name": "ButtonModel",
          "state": {
            "_dom_classes": [],
            "_model_module": "@jupyter-widgets/controls",
            "_model_module_version": "1.5.0",
            "_model_name": "ButtonModel",
            "_view_count": null,
            "_view_module": "@jupyter-widgets/controls",
            "_view_module_version": "1.5.0",
            "_view_name": "ButtonView",
            "button_style": "",
            "description": "Show answer",
            "disabled": false,
            "icon": "",
            "layout": "IPY_MODEL_6f17c3e457924474977584aaddf569d4",
            "style": "IPY_MODEL_ef9974ace40c46dcae2a9c554bd1dd83",
            "tooltip": ""
          }
        },
        "6f17c3e457924474977584aaddf569d4": {
          "model_module": "@jupyter-widgets/base",
          "model_module_version": "1.2.0",
          "model_name": "LayoutModel",
          "state": {
            "_model_module": "@jupyter-widgets/base",
            "_model_module_version": "1.2.0",
            "_model_name": "LayoutModel",
            "_view_count": null,
            "_view_module": "@jupyter-widgets/base",
            "_view_module_version": "1.2.0",
            "_view_name": "LayoutView",
            "align_content": null,
            "align_items": null,
            "align_self": null,
            "border": null,
            "bottom": null,
            "display": null,
            "flex": null,
            "flex_flow": null,
            "grid_area": null,
            "grid_auto_columns": null,
            "grid_auto_flow": null,
            "grid_auto_rows": null,
            "grid_column": null,
            "grid_gap": null,
            "grid_row": null,
            "grid_template_areas": null,
            "grid_template_columns": null,
            "grid_template_rows": null,
            "height": null,
            "justify_content": null,
            "justify_items": null,
            "left": null,
            "margin": null,
            "max_height": null,
            "max_width": null,
            "min_height": null,
            "min_width": null,
            "object_fit": null,
            "object_position": null,
            "order": null,
            "overflow": null,
            "overflow_x": null,
            "overflow_y": null,
            "padding": null,
            "right": null,
            "top": null,
            "visibility": null,
            "width": null
          }
        },
        "89274e2a22ec46778dd1be77feed0edd": {
          "model_module": "@jupyter-widgets/controls",
          "model_module_version": "1.5.0",
          "model_name": "ButtonStyleModel",
          "state": {
            "_model_module": "@jupyter-widgets/controls",
            "_model_module_version": "1.5.0",
            "_model_name": "ButtonStyleModel",
            "_view_count": null,
            "_view_module": "@jupyter-widgets/base",
            "_view_module_version": "1.2.0",
            "_view_name": "StyleView",
            "button_color": null,
            "font_weight": ""
          }
        },
        "894643420bef427082b6afd1b659bbc3": {
          "model_module": "@jupyter-widgets/base",
          "model_module_version": "1.2.0",
          "model_name": "LayoutModel",
          "state": {
            "_model_module": "@jupyter-widgets/base",
            "_model_module_version": "1.2.0",
            "_model_name": "LayoutModel",
            "_view_count": null,
            "_view_module": "@jupyter-widgets/base",
            "_view_module_version": "1.2.0",
            "_view_name": "LayoutView",
            "align_content": null,
            "align_items": null,
            "align_self": null,
            "border": null,
            "bottom": null,
            "display": null,
            "flex": null,
            "flex_flow": null,
            "grid_area": null,
            "grid_auto_columns": null,
            "grid_auto_flow": null,
            "grid_auto_rows": null,
            "grid_column": null,
            "grid_gap": null,
            "grid_row": null,
            "grid_template_areas": null,
            "grid_template_columns": null,
            "grid_template_rows": null,
            "height": null,
            "justify_content": null,
            "justify_items": null,
            "left": null,
            "margin": null,
            "max_height": null,
            "max_width": null,
            "min_height": null,
            "min_width": null,
            "object_fit": null,
            "object_position": null,
            "order": null,
            "overflow": null,
            "overflow_x": null,
            "overflow_y": null,
            "padding": null,
            "right": null,
            "top": null,
            "visibility": null,
            "width": null
          }
        },
        "a29553dcfe9c4df0acb563cbcec20bba": {
          "model_module": "@jupyter-widgets/base",
          "model_module_version": "1.2.0",
          "model_name": "LayoutModel",
          "state": {
            "_model_module": "@jupyter-widgets/base",
            "_model_module_version": "1.2.0",
            "_model_name": "LayoutModel",
            "_view_count": null,
            "_view_module": "@jupyter-widgets/base",
            "_view_module_version": "1.2.0",
            "_view_name": "LayoutView",
            "align_content": null,
            "align_items": null,
            "align_self": null,
            "border": null,
            "bottom": null,
            "display": null,
            "flex": null,
            "flex_flow": null,
            "grid_area": null,
            "grid_auto_columns": null,
            "grid_auto_flow": null,
            "grid_auto_rows": null,
            "grid_column": null,
            "grid_gap": null,
            "grid_row": null,
            "grid_template_areas": null,
            "grid_template_columns": null,
            "grid_template_rows": null,
            "height": null,
            "justify_content": null,
            "justify_items": null,
            "left": null,
            "margin": null,
            "max_height": null,
            "max_width": null,
            "min_height": null,
            "min_width": null,
            "object_fit": null,
            "object_position": null,
            "order": null,
            "overflow": null,
            "overflow_x": null,
            "overflow_y": null,
            "padding": null,
            "right": null,
            "top": null,
            "visibility": null,
            "width": null
          }
        },
        "c1f61bc9d46f49bd8887ba4c3e61aec8": {
          "model_module": "@jupyter-widgets/base",
          "model_module_version": "1.2.0",
          "model_name": "LayoutModel",
          "state": {
            "_model_module": "@jupyter-widgets/base",
            "_model_module_version": "1.2.0",
            "_model_name": "LayoutModel",
            "_view_count": null,
            "_view_module": "@jupyter-widgets/base",
            "_view_module_version": "1.2.0",
            "_view_name": "LayoutView",
            "align_content": null,
            "align_items": null,
            "align_self": null,
            "border": null,
            "bottom": null,
            "display": null,
            "flex": null,
            "flex_flow": null,
            "grid_area": null,
            "grid_auto_columns": null,
            "grid_auto_flow": null,
            "grid_auto_rows": null,
            "grid_column": null,
            "grid_gap": null,
            "grid_row": null,
            "grid_template_areas": null,
            "grid_template_columns": null,
            "grid_template_rows": null,
            "height": null,
            "justify_content": null,
            "justify_items": null,
            "left": null,
            "margin": null,
            "max_height": null,
            "max_width": null,
            "min_height": null,
            "min_width": null,
            "object_fit": null,
            "object_position": null,
            "order": null,
            "overflow": null,
            "overflow_x": null,
            "overflow_y": null,
            "padding": null,
            "right": null,
            "top": null,
            "visibility": null,
            "width": null
          }
        },
        "c5008e137dc9421ca6f456776a2c7b7c": {
          "model_module": "@jupyter-widgets/output",
          "model_module_version": "1.0.0",
          "model_name": "OutputModel",
          "state": {
            "_dom_classes": [],
            "_model_module": "@jupyter-widgets/output",
            "_model_module_version": "1.0.0",
            "_model_name": "OutputModel",
            "_view_count": null,
            "_view_module": "@jupyter-widgets/output",
            "_view_module_version": "1.0.0",
            "_view_name": "OutputView",
            "layout": "IPY_MODEL_c1f61bc9d46f49bd8887ba4c3e61aec8",
            "msg_id": "",
            "outputs": []
          }
        },
        "d2afb5eb06194cf3a112459277be5de8": {
          "model_module": "@jupyter-widgets/output",
          "model_module_version": "1.0.0",
          "model_name": "OutputModel",
          "state": {
            "_dom_classes": [],
            "_model_module": "@jupyter-widgets/output",
            "_model_module_version": "1.0.0",
            "_model_name": "OutputModel",
            "_view_count": null,
            "_view_module": "@jupyter-widgets/output",
            "_view_module_version": "1.0.0",
            "_view_name": "OutputView",
            "layout": "IPY_MODEL_3a4955ad67d3452198226d8ef1d1df56",
            "msg_id": "",
            "outputs": []
          }
        },
        "db023e765f984dbcbba0c6256c04e4df": {
          "model_module": "@jupyter-widgets/controls",
          "model_module_version": "1.5.0",
          "model_name": "ButtonStyleModel",
          "state": {
            "_model_module": "@jupyter-widgets/controls",
            "_model_module_version": "1.5.0",
            "_model_name": "ButtonStyleModel",
            "_view_count": null,
            "_view_module": "@jupyter-widgets/base",
            "_view_module_version": "1.2.0",
            "_view_name": "StyleView",
            "button_color": null,
            "font_weight": ""
          }
        },
        "ef9974ace40c46dcae2a9c554bd1dd83": {
          "model_module": "@jupyter-widgets/controls",
          "model_module_version": "1.5.0",
          "model_name": "ButtonStyleModel",
          "state": {
            "_model_module": "@jupyter-widgets/controls",
            "_model_module_version": "1.5.0",
            "_model_name": "ButtonStyleModel",
            "_view_count": null,
            "_view_module": "@jupyter-widgets/base",
            "_view_module_version": "1.2.0",
            "_view_name": "StyleView",
            "button_color": null,
            "font_weight": ""
          }
        },
        "f383397201be474bb58b4fe51bb99b5d": {
          "model_module": "@jupyter-widgets/base",
          "model_module_version": "1.2.0",
          "model_name": "LayoutModel",
          "state": {
            "_model_module": "@jupyter-widgets/base",
            "_model_module_version": "1.2.0",
            "_model_name": "LayoutModel",
            "_view_count": null,
            "_view_module": "@jupyter-widgets/base",
            "_view_module_version": "1.2.0",
            "_view_name": "LayoutView",
            "align_content": null,
            "align_items": null,
            "align_self": null,
            "border": null,
            "bottom": null,
            "display": null,
            "flex": null,
            "flex_flow": null,
            "grid_area": null,
            "grid_auto_columns": null,
            "grid_auto_flow": null,
            "grid_auto_rows": null,
            "grid_column": null,
            "grid_gap": null,
            "grid_row": null,
            "grid_template_areas": null,
            "grid_template_columns": null,
            "grid_template_rows": null,
            "height": null,
            "justify_content": null,
            "justify_items": null,
            "left": null,
            "margin": null,
            "max_height": null,
            "max_width": null,
            "min_height": null,
            "min_width": null,
            "object_fit": null,
            "object_position": null,
            "order": null,
            "overflow": null,
            "overflow_x": null,
            "overflow_y": null,
            "padding": null,
            "right": null,
            "top": null,
            "visibility": null,
            "width": null
          }
        },
        "fa43807257dc48b2a04152595486bf8b": {
          "model_module": "@jupyter-widgets/base",
          "model_module_version": "1.2.0",
          "model_name": "LayoutModel",
          "state": {
            "_model_module": "@jupyter-widgets/base",
            "_model_module_version": "1.2.0",
            "_model_name": "LayoutModel",
            "_view_count": null,
            "_view_module": "@jupyter-widgets/base",
            "_view_module_version": "1.2.0",
            "_view_name": "LayoutView",
            "align_content": null,
            "align_items": null,
            "align_self": null,
            "border": null,
            "bottom": null,
            "display": null,
            "flex": null,
            "flex_flow": null,
            "grid_area": null,
            "grid_auto_columns": null,
            "grid_auto_flow": null,
            "grid_auto_rows": null,
            "grid_column": null,
            "grid_gap": null,
            "grid_row": null,
            "grid_template_areas": null,
            "grid_template_columns": null,
            "grid_template_rows": null,
            "height": null,
            "justify_content": null,
            "justify_items": null,
            "left": null,
            "margin": null,
            "max_height": null,
            "max_width": null,
            "min_height": null,
            "min_width": null,
            "object_fit": null,
            "object_position": null,
            "order": null,
            "overflow": null,
            "overflow_x": null,
            "overflow_y": null,
            "padding": null,
            "right": null,
            "top": null,
            "visibility": null,
            "width": null
          }
        }
      }
    }
  },
  "nbformat": 4,
  "nbformat_minor": 5
}
